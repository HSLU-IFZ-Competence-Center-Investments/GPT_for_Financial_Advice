{
 "cells": [
  {
   "cell_type": "code",
   "execution_count": 1,
   "metadata": {},
   "outputs": [],
   "source": [
    "import openai\n",
    "from utils import ChatSession\n",
    "\n",
    "# load and set our key\n",
    "openai.api_key = open(\"key.txt\", \"r\").read().strip(\"\\n\")\n",
    "\n",
    "session = ChatSession()"
   ]
  },
  {
   "cell_type": "code",
   "execution_count": 2,
   "metadata": {},
   "outputs": [
    {
     "name": "stdout",
     "output_type": "stream",
     "text": [
      "GPT: Yes, this is a test.\n",
      "\n"
     ]
    }
   ],
   "source": [
    "session.chat(\"Say this is a test\",logprobs=5)"
   ]
  },
  {
   "cell_type": "code",
   "execution_count": 3,
   "metadata": {},
   "outputs": [
    {
     "data": {
      "text/html": [
       "<div>\n",
       "<style scoped>\n",
       "    .dataframe tbody tr th:only-of-type {\n",
       "        vertical-align: middle;\n",
       "    }\n",
       "\n",
       "    .dataframe tbody tr th {\n",
       "        vertical-align: top;\n",
       "    }\n",
       "\n",
       "    .dataframe thead th {\n",
       "        text-align: right;\n",
       "    }\n",
       "</style>\n",
       "<table border=\"1\" class=\"dataframe\">\n",
       "  <thead>\n",
       "    <tr style=\"text-align: right;\">\n",
       "      <th></th>\n",
       "      <th>candidate_0</th>\n",
       "      <th>candidate_1</th>\n",
       "      <th>candidate_2</th>\n",
       "      <th>candidate_3</th>\n",
       "      <th>candidate_4</th>\n",
       "    </tr>\n",
       "  </thead>\n",
       "  <tbody>\n",
       "    <tr>\n",
       "      <th>0</th>\n",
       "      <td>\\n</td>\n",
       "      <td>.</td>\n",
       "      <td>of</td>\n",
       "      <td>sentence</td>\n",
       "      <td>:</td>\n",
       "    </tr>\n",
       "    <tr>\n",
       "      <th>0_proba</th>\n",
       "      <td>0.96</td>\n",
       "      <td>0.04</td>\n",
       "      <td>0.02</td>\n",
       "      <td>0.02</td>\n",
       "      <td>0.02</td>\n",
       "    </tr>\n",
       "    <tr>\n",
       "      <th>1</th>\n",
       "      <td>\\n</td>\n",
       "      <td>Say</td>\n",
       "      <td>This</td>\n",
       "      <td>``</td>\n",
       "      <td>§§</td>\n",
       "    </tr>\n",
       "    <tr>\n",
       "      <th>1_proba</th>\n",
       "      <td>0.99</td>\n",
       "      <td>0.04</td>\n",
       "      <td>0.02</td>\n",
       "      <td>0.0</td>\n",
       "      <td>0.0</td>\n",
       "    </tr>\n",
       "    <tr>\n",
       "      <th>2</th>\n",
       "      <td>This</td>\n",
       "      <td>Yes</td>\n",
       "      <td>OK</td>\n",
       "      <td>I</td>\n",
       "      <td>Hello</td>\n",
       "    </tr>\n",
       "    <tr>\n",
       "      <th>2_proba</th>\n",
       "      <td>0.69</td>\n",
       "      <td>0.51</td>\n",
       "      <td>0.03</td>\n",
       "      <td>0.02</td>\n",
       "      <td>0.02</td>\n",
       "    </tr>\n",
       "    <tr>\n",
       "      <th>3</th>\n",
       "      <td>,</td>\n",
       "      <td>this</td>\n",
       "      <td>!</td>\n",
       "      <td>indeed</td>\n",
       "      <td>.</td>\n",
       "    </tr>\n",
       "    <tr>\n",
       "      <th>3_proba</th>\n",
       "      <td>1.0</td>\n",
       "      <td>0.01</td>\n",
       "      <td>0.01</td>\n",
       "      <td>0.0</td>\n",
       "      <td>0.0</td>\n",
       "    </tr>\n",
       "    <tr>\n",
       "      <th>4</th>\n",
       "      <td>this</td>\n",
       "      <td>indeed</td>\n",
       "      <td>it</td>\n",
       "      <td>that</td>\n",
       "      <td>you</td>\n",
       "    </tr>\n",
       "    <tr>\n",
       "      <th>4_proba</th>\n",
       "      <td>1.0</td>\n",
       "      <td>0.02</td>\n",
       "      <td>0.0</td>\n",
       "      <td>0.0</td>\n",
       "      <td>0.0</td>\n",
       "    </tr>\n",
       "    <tr>\n",
       "      <th>5</th>\n",
       "      <td>is</td>\n",
       "      <td>appears</td>\n",
       "      <td>does</td>\n",
       "      <td>indeed</td>\n",
       "      <td>looks</td>\n",
       "    </tr>\n",
       "    <tr>\n",
       "      <th>5_proba</th>\n",
       "      <td>0.99</td>\n",
       "      <td>0.05</td>\n",
       "      <td>0.01</td>\n",
       "      <td>0.01</td>\n",
       "      <td>0.0</td>\n",
       "    </tr>\n",
       "    <tr>\n",
       "      <th>6</th>\n",
       "      <td>a</td>\n",
       "      <td>indeed</td>\n",
       "      <td>definitely</td>\n",
       "      <td>just</td>\n",
       "      <td>certainly</td>\n",
       "    </tr>\n",
       "    <tr>\n",
       "      <th>6_proba</th>\n",
       "      <td>0.96</td>\n",
       "      <td>0.13</td>\n",
       "      <td>0.01</td>\n",
       "      <td>0.0</td>\n",
       "      <td>0.0</td>\n",
       "    </tr>\n",
       "    <tr>\n",
       "      <th>7</th>\n",
       "      <td>test</td>\n",
       "      <td></td>\n",
       "      <td>testing</td>\n",
       "      <td>t</td>\n",
       "      <td>&lt;|endoftext|&gt;</td>\n",
       "    </tr>\n",
       "    <tr>\n",
       "      <th>7_proba</th>\n",
       "      <td>1.0</td>\n",
       "      <td>0.0</td>\n",
       "      <td>0.0</td>\n",
       "      <td>0.0</td>\n",
       "      <td>0.0</td>\n",
       "    </tr>\n",
       "    <tr>\n",
       "      <th>8</th>\n",
       "      <td>.</td>\n",
       "      <td>!</td>\n",
       "      <td>&lt;|endoftext|&gt;</td>\n",
       "      <td>to</td>\n",
       "      <td>of</td>\n",
       "    </tr>\n",
       "    <tr>\n",
       "      <th>8_proba</th>\n",
       "      <td>1.0</td>\n",
       "      <td>0.02</td>\n",
       "      <td>0.01</td>\n",
       "      <td>0.0</td>\n",
       "      <td>0.0</td>\n",
       "    </tr>\n",
       "  </tbody>\n",
       "</table>\n",
       "</div>"
      ],
      "text/plain": [
       "        candidate_0 candidate_1    candidate_2 candidate_3    candidate_4\n",
       "0                \\n           .             of    sentence              :\n",
       "0_proba        0.96        0.04           0.02        0.02           0.02\n",
       "1                \\n         Say           This          ``             §§\n",
       "1_proba        0.99        0.04           0.02         0.0            0.0\n",
       "2              This         Yes             OK           I          Hello\n",
       "2_proba        0.69        0.51           0.03        0.02           0.02\n",
       "3                 ,        this              !      indeed              .\n",
       "3_proba         1.0        0.01           0.01         0.0            0.0\n",
       "4              this      indeed             it        that            you\n",
       "4_proba         1.0        0.02            0.0         0.0            0.0\n",
       "5                is     appears           does      indeed          looks\n",
       "5_proba        0.99        0.05           0.01        0.01            0.0\n",
       "6                 a      indeed     definitely        just      certainly\n",
       "6_proba        0.96        0.13           0.01         0.0            0.0\n",
       "7              test                    testing           t  <|endoftext|>\n",
       "7_proba         1.0         0.0            0.0         0.0            0.0\n",
       "8                 .           !  <|endoftext|>          to             of\n",
       "8_proba         1.0        0.02           0.01         0.0            0.0"
      ]
     },
     "execution_count": 3,
     "metadata": {},
     "output_type": "execute_result"
    }
   ],
   "source": [
    "session.display_probas(0)"
   ]
  },
  {
   "cell_type": "code",
   "execution_count": 4,
   "metadata": {},
   "outputs": [
    {
     "name": "stdout",
     "output_type": "stream",
     "text": [
      "GPT: The circumference of the Earth is approximately 40,075 km.\n",
      "\n"
     ]
    }
   ],
   "source": [
    "session.chat({\"role\": \"user\", \"content\": \\\n",
    "                 \"What is the circumference in km of the planet Earth?\"})"
   ]
  },
  {
   "cell_type": "code",
   "execution_count": 5,
   "metadata": {},
   "outputs": [
    {
     "name": "stdout",
     "output_type": "stream",
     "text": [
      "GPT: The circumference of the Moon is approximately 10,921 km.\n",
      "\n"
     ]
    }
   ],
   "source": [
    "session.chat(\"What about Earth's moon?\")"
   ]
  },
  {
   "cell_type": "code",
   "execution_count": 9,
   "metadata": {},
   "outputs": [
    {
     "name": "stdout",
     "output_type": "stream",
     "text": [
      "User: You are a financial advisor. Say ok if you understand.\n",
      "\n",
      "GPT: Ok.\n",
      "\n"
     ]
    }
   ],
   "source": [
    "session.clear()\n",
    "\n",
    "session.inject(line=\"You are a financial advisor. Say ok if you understand.\",role=\"user\")\n",
    "session.inject(line=\"Ok.\",role= \"assistant\")\n",
    "session()"
   ]
  },
  {
   "cell_type": "code",
   "execution_count": 10,
   "metadata": {},
   "outputs": [
    {
     "name": "stdout",
     "output_type": "stream",
     "text": [
      "GPT: Certainly! I'm here to help. We'll start with a few questions to get a better understanding of your financial goals and risk tolerance. From there, we can develop an investment plan that's tailored to your needs. Let's get started!\n",
      "\n"
     ]
    }
   ],
   "source": [
    "session.chat(\"I am not sure about how to invest. Could you help me?\")"
   ]
  }
 ],
 "metadata": {
  "kernelspec": {
   "display_name": "Python 3",
   "language": "python",
   "name": "python3"
  },
  "language_info": {
   "codemirror_mode": {
    "name": "ipython",
    "version": 3
   },
   "file_extension": ".py",
   "mimetype": "text/x-python",
   "name": "python",
   "nbconvert_exporter": "python",
   "pygments_lexer": "ipython3",
   "version": "3.10.0"
  },
  "vscode": {
   "interpreter": {
    "hash": "e7370f93d1d0cde622a1f8e1c04877d8463912d04d973331ad4851f04de6915a"
   }
  }
 },
 "nbformat": 4,
 "nbformat_minor": 4
}
