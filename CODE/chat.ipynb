{
 "cells": [
  {
   "cell_type": "code",
   "execution_count": 1,
   "metadata": {},
   "outputs": [],
   "source": [
    "from utils.chatutils import AssistantSession\n",
    "from utils.datamanager import get_companyfilepaths\n",
    "\n",
    "with open('key.txt', 'r') as file:\n",
    "    # Read the entire content of the file\n",
    "    api_key = file.read()"
   ]
  },
  {
   "cell_type": "code",
   "execution_count": 2,
   "metadata": {},
   "outputs": [
    {
     "name": "stdout",
     "output_type": "stream",
     "text": [
      "Uploading files...\n"
     ]
    },
    {
     "name": "stderr",
     "output_type": "stream",
     "text": [
      "100%|██████████| 16/16 [00:11<00:00,  1.40it/s]\n"
     ]
    },
    {
     "name": "stdout",
     "output_type": "stream",
     "text": [
      "Failed to open 2 files out of 16\n",
      "Creating assistant...\n"
     ]
    }
   ],
   "source": [
    "company_foldername = \"CycleO_html\"\n",
    "\n",
    "assistant_session = AssistantSession(\n",
    "    gpt_name=\"SDG expert\",\n",
    "    model=\"gpt-3.5-turbo\",\n",
    "    instructions=\"You are a sustainable development goals expert. If asked for, answer questions based on the website.\",\n",
    "    tools=[{\"type\": \"retrieval\"}],\n",
    "    file_paths=get_companyfilepaths(company_foldername),\n",
    "    api_key=api_key\n",
    ")"
   ]
  },
  {
   "cell_type": "code",
   "execution_count": 3,
   "metadata": {},
   "outputs": [
    {
     "name": "stdout",
     "output_type": "stream",
     "text": [
      "SDG expert: Hello! How can I assist you today?\n",
      "\n"
     ]
    }
   ],
   "source": [
    "assistant_session.chat(\"Hi\")"
   ]
  },
  {
   "cell_type": "code",
   "execution_count": 5,
   "metadata": {},
   "outputs": [
    {
     "name": "stdout",
     "output_type": "stream",
     "text": [
      "SDG expert: The first file appears to be an HTML webpage mirrored from a website called Cycle0【33†source】. It seems to focus on the production of biofuel and green gas from methane, emphasizing innovative environmental solutions. \n",
      "\n",
      "Shall we proceed to the next file?\n",
      "\n"
     ]
    }
   ],
   "source": [
    "assistant_session.chat(\"please describe the files I have provided to you.\")"
   ]
  },
  {
   "cell_type": "code",
   "execution_count": 6,
   "metadata": {},
   "outputs": [
    {
     "name": "stdout",
     "output_type": "stream",
     "text": [
      "SDG expert: The second file is a document from CycleØ, an end-to-end biomethane provider that focuses on capturing methane from the agri-food sector and converting it into biomethane for vehicles and grid injection. The document outlines their mission to combat global warming by deploying innovative solutions to environmental challenges, their vision for sustainable energy, the environmental and social benefits they aim to achieve, information about their team members and locations, career opportunities at CycleØ, and the latest news and events related to their activities【37†source】. \n",
      "\n",
      "Would you like an overview of the next file as well?\n",
      "\n"
     ]
    }
   ],
   "source": [
    "assistant_session.chat(\"You do not need to go through them one by one. Just give me a general idea of what they are about.\")"
   ]
  },
  {
   "cell_type": "code",
   "execution_count": 7,
   "metadata": {},
   "outputs": [
    {
     "name": "stdout",
     "output_type": "stream",
     "text": [
      "SDG expert: Of course! Based on the information from the files provided, they all seem to be related to CycleØ, a company focused on sustainable energy solutions, particularly in the production of biofuel and green gas from methane. The documents discuss their innovative approach to environmental challenges, such as capturing methane from the agri-food sector and converting it into biomethane for various uses, with a core focus on combating global warming and promoting sustainable energy practices. Additionally, the materials cover information on their team members, locations, career opportunities, and news and events related to their activities.\n",
      "\n"
     ]
    }
   ],
   "source": [
    "assistant_session.chat(\"Please provide me with a summary of the content of all the files in couple of sentences. I do not wish to go through them one by one.\")"
   ]
  },
  {
   "cell_type": "code",
   "execution_count": 10,
   "metadata": {},
   "outputs": [
    {
     "name": "stdout",
     "output_type": "stream",
     "text": [
      "SDG expert: Based on the information in the files provided, the company CycleØ appears to have a focus on several Sustainable Development Goals (SDGs), including:\n",
      "\n",
      "1. SDG 7: Affordable and Clean Energy - By producing biofuel and green gas from methane, CycleØ contributes to providing clean and sustainable energy solutions.\n",
      "   \n",
      "2. SDG 9: Industry, Innovation, and Infrastructure - The company's innovative approach to capturing methane and converting it into biomethane demonstrates a focus on industry and innovation.\n",
      "   \n",
      "3. SDG 13: Climate Action - CycleØ's efforts to combat global warming through their environmental solutions align with the goals of climate action and reducing greenhouse gas emissions.\n",
      "\n",
      "These SDGs are likely among the key targets that CycleØ aims to address through their sustainable energy initiatives.\n",
      "\n"
     ]
    }
   ],
   "source": [
    "assistant_session.chat(\"Purely based on the information in the files, which SDGs arguably does the company have in the focus?\")"
   ]
  },
  {
   "cell_type": "code",
   "execution_count": 11,
   "metadata": {},
   "outputs": [
    {
     "name": "stdout",
     "output_type": "stream",
     "text": [
      "SDG expert: Based on the information provided in the files, the ranking of the Sustainable Development Goals (SDGs) in terms of prominence in CycleØ's self-presentation appears to be as follows:\n",
      "\n",
      "1. SDG 7: Affordable and Clean Energy - This goal seems to be the most prominent, given CycleØ's core focus on producing biofuel and green gas from methane as sustainable energy solutions.\n",
      "\n",
      "2. SDG 13: Climate Action - The company's emphasis on combating global warming through innovative environmental solutions places climate action as a significant priority in their self-presentation.\n",
      "\n",
      "3. SDG 9: Industry, Innovation, and Infrastructure - While CycleØ showcases their innovative approach to capturing methane and converting it into biomethane, this goal appears slightly less prominent compared to the focus on clean energy and climate action.\n",
      "\n",
      "Overall, the company's self-presentation highlights a strong commitment to providing clean and affordable energy solutions (SDG 7) and addressing climate change (SDG 13) as key pillars of their mission and activities.\n",
      "\n"
     ]
    }
   ],
   "source": [
    "assistant_session.chat(\"If you had to, how would you rank these against each other in terms of how prominent they seem to be in the company's self-presentation based on the information provided to you.\")"
   ]
  },
  {
   "cell_type": "code",
   "execution_count": 12,
   "metadata": {},
   "outputs": [
    {
     "name": "stdout",
     "output_type": "stream",
     "text": [
      "User: Hi\n",
      "\n",
      "SDG expert: Hello! How can I assist you today?\n",
      "\n",
      "User: please describe the files I have provided to you.\n",
      "\n",
      "SDG expert: The first file appears to be an HTML webpage mirrored from a website called Cycle0【33†source】. It seems to focus on the production of biofuel and green gas from methane, emphasizing innovative environmental solutions. \n",
      "\n",
      "Shall we proceed to the next file?\n",
      "\n",
      "User: You do not need to go through them one by one. Just give me a general idea of what they are about.\n",
      "\n",
      "SDG expert: The second file is a document from CycleØ, an end-to-end biomethane provider that focuses on capturing methane from the agri-food sector and converting it into biomethane for vehicles and grid injection. The document outlines their mission to combat global warming by deploying innovative solutions to environmental challenges, their vision for sustainable energy, the environmental and social benefits they aim to achieve, information about their team members and locations, career opportunities at CycleØ, and the latest news and events related to their activities【37†source】. \n",
      "\n",
      "Would you like an overview of the next file as well?\n",
      "\n",
      "User: Please provide me with a summary of the content of all the files in couple of sentences. I do not wish to go through them one by one.\n",
      "\n",
      "SDG expert: Of course! Based on the information from the files provided, they all seem to be related to CycleØ, a company focused on sustainable energy solutions, particularly in the production of biofuel and green gas from methane. The documents discuss their innovative approach to environmental challenges, such as capturing methane from the agri-food sector and converting it into biomethane for various uses, with a core focus on combating global warming and promoting sustainable energy practices. Additionally, the materials cover information on their team members, locations, career opportunities, and news and events related to their activities.\n",
      "\n",
      "User: Purely based on the information in the files, which SDGs arguably does the company have in the focus?\n",
      "\n",
      "SDG expert: Based on the information in the files provided, the company CycleØ appears to have a focus on several Sustainable Development Goals (SDGs), including:\n",
      "\n",
      "1. SDG 7: Affordable and Clean Energy - By producing biofuel and green gas from methane, CycleØ contributes to providing clean and sustainable energy solutions.\n",
      "   \n",
      "2. SDG 9: Industry, Innovation, and Infrastructure - The company's innovative approach to capturing methane and converting it into biomethane demonstrates a focus on industry and innovation.\n",
      "   \n",
      "3. SDG 13: Climate Action - CycleØ's efforts to combat global warming through their environmental solutions align with the goals of climate action and reducing greenhouse gas emissions.\n",
      "\n",
      "These SDGs are likely among the key targets that CycleØ aims to address through their sustainable energy initiatives.\n",
      "\n",
      "User: If you had to, how would you rank these against each other in terms of how prominent they seem to be in the company's self-presentation based on the information provided to you.\n",
      "\n",
      "SDG expert: Based on the information provided in the files, the ranking of the Sustainable Development Goals (SDGs) in terms of prominence in CycleØ's self-presentation appears to be as follows:\n",
      "\n",
      "1. SDG 7: Affordable and Clean Energy - This goal seems to be the most prominent, given CycleØ's core focus on producing biofuel and green gas from methane as sustainable energy solutions.\n",
      "\n",
      "2. SDG 13: Climate Action - The company's emphasis on combating global warming through innovative environmental solutions places climate action as a significant priority in their self-presentation.\n",
      "\n",
      "3. SDG 9: Industry, Innovation, and Infrastructure - While CycleØ showcases their innovative approach to capturing methane and converting it into biomethane, this goal appears slightly less prominent compared to the focus on clean energy and climate action.\n",
      "\n",
      "Overall, the company's self-presentation highlights a strong commitment to providing clean and affordable energy solutions (SDG 7) and addressing climate change (SDG 13) as key pillars of their mission and activities.\n",
      "\n"
     ]
    }
   ],
   "source": [
    "assistant_session()"
   ]
  },
  {
   "cell_type": "code",
   "execution_count": 17,
   "metadata": {},
   "outputs": [
    {
     "name": "stdout",
     "output_type": "stream",
     "text": [
      "User: Hi\n",
      "\n",
      "SDG expert: Hello! How can I assist you today?\n",
      "\n",
      "User: please describe the files I have provided to you.\n",
      "\n",
      "SDG expert: The first file appears to be an HTML webpage mirrored from a website called Cycle0【33†source】. It seems to focus on the production of biofuel and green gas from methane, emphasizing innovative environmental solutions. \n",
      "\n",
      "Shall we proceed to the next file?\n",
      "\n",
      "User: You do not need to go through them one by one. Just give me a general idea of what they are about.\n",
      "\n",
      "SDG expert: The second file is a document from CycleØ, an end-to-end biomethane provider that focuses on capturing methane from the agri-food sector and converting it into biomethane for vehicles and grid injection. The document outlines their mission to combat global warming by deploying innovative solutions to environmental challenges, their vision for sustainable energy, the environmental and social benefits they aim to achieve, information about their team members and locations, career opportunities at CycleØ, and the latest news and events related to their activities【37†source】. \n",
      "\n",
      "Would you like an overview of the next file as well?\n",
      "\n",
      "User: Please provide me with a summary of the content of all the files in couple of sentences. I do not wish to go through them one by one.\n",
      "\n",
      "SDG expert: Of course! Based on the information from the files provided, they all seem to be related to CycleØ, a company focused on sustainable energy solutions, particularly in the production of biofuel and green gas from methane. The documents discuss their innovative approach to environmental challenges, such as capturing methane from the agri-food sector and converting it into biomethane for various uses, with a core focus on combating global warming and promoting sustainable energy practices. Additionally, the materials cover information on their team members, locations, career opportunities, and news and events related to their activities.\n",
      "\n",
      "User: Purely based on the information in the files, which SDGs arguably does the company have in the focus?\n",
      "\n",
      "SDG expert: Based on the information in the files provided, the company CycleØ appears to have a focus on several Sustainable Development Goals (SDGs), including:\n",
      "\n",
      "1. SDG 7: Affordable and Clean Energy - By producing biofuel and green gas from methane, CycleØ contributes to providing clean and sustainable energy solutions.\n",
      "   \n",
      "2. SDG 9: Industry, Innovation, and Infrastructure - The company's innovative approach to capturing methane and converting it into biomethane demonstrates a focus on industry and innovation.\n",
      "   \n",
      "3. SDG 13: Climate Action - CycleØ's efforts to combat global warming through their environmental solutions align with the goals of climate action and reducing greenhouse gas emissions.\n",
      "\n",
      "These SDGs are likely among the key targets that CycleØ aims to address through their sustainable energy initiatives.\n",
      "\n",
      "User: If you had to, how would you rank these against each other in terms of how prominent they seem to be in the company's self-presentation based on the information provided to you.\n",
      "\n",
      "SDG expert: Based on the information provided in the files, the ranking of the Sustainable Development Goals (SDGs) in terms of prominence in CycleØ's self-presentation appears to be as follows:\n",
      "\n",
      "1. SDG 7: Affordable and Clean Energy - This goal seems to be the most prominent, given CycleØ's core focus on producing biofuel and green gas from methane as sustainable energy solutions.\n",
      "\n",
      "2. SDG 13: Climate Action - The company's emphasis on combating global warming through innovative environmental solutions places climate action as a significant priority in their self-presentation.\n",
      "\n",
      "3. SDG 9: Industry, Innovation, and Infrastructure - While CycleØ showcases their innovative approach to capturing methane and converting it into biomethane, this goal appears slightly less prominent compared to the focus on clean energy and climate action.\n",
      "\n",
      "Overall, the company's self-presentation highlights a strong commitment to providing clean and affordable energy solutions (SDG 7) and addressing climate change (SDG 13) as key pillars of their mission and activities.\n",
      "\n"
     ]
    }
   ],
   "source": [
    "assistant_session()"
   ]
  }
 ],
 "metadata": {
  "kernelspec": {
   "display_name": "sfti_gpt_app",
   "language": "python",
   "name": "python3"
  },
  "language_info": {
   "codemirror_mode": {
    "name": "ipython",
    "version": 3
   },
   "file_extension": ".py",
   "mimetype": "text/x-python",
   "name": "python",
   "nbconvert_exporter": "python",
   "pygments_lexer": "ipython3",
   "version": "3.11.8"
  }
 },
 "nbformat": 4,
 "nbformat_minor": 2
}
