{
 "cells": [
  {
   "cell_type": "markdown",
   "metadata": {},
   "source": [
    "# Test"
   ]
  },
  {
   "cell_type": "markdown",
   "metadata": {},
   "source": [
    "## Import"
   ]
  },
  {
   "cell_type": "code",
   "execution_count": 1,
   "metadata": {},
   "outputs": [],
   "source": [
    "import numpy as np\n",
    "import pandas as pd\n",
    "import sys,os\n",
    "sys.path.append('../')\n",
    "# from utils.misc import *\n",
    "\n",
    "# from preprocess import *\n",
    "# from utils.dataset import DatasetManager\n",
    "# from train import *\n",
    "\n",
    "# from pqdm.processes import pqdm\n",
    "from tqdm import tqdm\n",
    "# from matplotlib import pyplot as plt\n",
    "\n",
    "from configs.misc_config import cfg\n",
    "# from models.Linear import OLS\n",
    "\n",
    "# import torch\n",
    "# from torchsummary import summary\n",
    "\n",
    "from utils.chatutils import ChatSession,openai\n",
    "\n",
    "chat_sess = ChatSession()\n",
    "chat_sess\n",
    "\n",
    "from openai import OpenAI\n",
    "\n",
    "with open('key.txt', 'r') as file:\n",
    "    # Read the entire content of the file\n",
    "    api_key = file.read()\n",
    "openai.api_key = api_key\n",
    "client = OpenAI(api_key=api_key)"
   ]
  },
  {
   "cell_type": "markdown",
   "metadata": {},
   "source": [
    "## File"
   ]
  },
  {
   "cell_type": "markdown",
   "metadata": {},
   "source": [
    "### Html"
   ]
  },
  {
   "cell_type": "code",
   "execution_count": 27,
   "metadata": {},
   "outputs": [
    {
     "name": "stdout",
     "output_type": "stream",
     "text": [
      "Failed to open 0 files out of 16\n"
     ]
    }
   ],
   "source": [
    "company_foldername = \"CycleO_html\"\n",
    "file_paths = []\n",
    "for root, dirs, files in os.walk(cfg.PATH.CRAWLER+ f\"/{company_foldername}\"):\n",
    "    for file in files:\n",
    "        file_paths.append(os.path.join(root, file))\n",
    "\n",
    "files = []\n",
    "failed_to_open = 0\n",
    "for file_path in file_paths[:1]:\n",
    "    try :\n",
    "        file = client.files.create(file=open(file_path, 'rb'),\n",
    "                                    purpose=\"assistants\")\n",
    "        files.append(file)\n",
    "    except:\n",
    "        failed_to_open+=1\n",
    "\n",
    "print(f\"Failed to open {failed_to_open} files out of {len(file_paths)}\")\n",
    "# file_path = cfg.PATH.CRAWLER+ f\"/{company_foldername}\"+ r\"\\about_index.html\"\n",
    "# file = client.files.create(file=open(file_path, 'rb'),\n",
    "#                                 purpose=\"assistants\")\n",
    "\n",
    "# file_path2 = cfg.PATH.CRAWLER+ f\"/{company_foldername}\"+ r\"\\en_index.html\"\n",
    "# file2 = client.files.create(file=open(file_path2, 'rb'),\n",
    "#                                 purpose=\"assistants\")"
   ]
  },
  {
   "cell_type": "code",
   "execution_count": 28,
   "metadata": {},
   "outputs": [
    {
     "data": {
      "text/plain": [
       "[FileObject(id='file-Pn1uvYPnoGbpIyIIT6ijxHDH', bytes=94977, created_at=1712220276, filename='about_index.html', object='file', purpose='assistants', status='processed', status_details=None)]"
      ]
     },
     "execution_count": 28,
     "metadata": {},
     "output_type": "execute_result"
    }
   ],
   "source": [
    "files"
   ]
  },
  {
   "cell_type": "markdown",
   "metadata": {},
   "source": [
    "### Text"
   ]
  },
  {
   "cell_type": "code",
   "execution_count": null,
   "metadata": {},
   "outputs": [],
   "source": [
    "# file_path = cfg.PATH.DATA+r\"\\website_1.txt\"\n",
    "# file = client.files.create(file=open(file_path, 'rb'),\n",
    "#                                 purpose=\"assistants\")\n",
    "\n",
    "# file_path2 = cfg.PATH.DATA+r\"\\website_2.txt\"\n",
    "# file2 = client.files.create(file=open(file_path2, 'rb'),\n",
    "#                                 purpose=\"assistants\")"
   ]
  },
  {
   "cell_type": "code",
   "execution_count": 35,
   "metadata": {},
   "outputs": [
    {
     "name": "stdout",
     "output_type": "stream",
     "text": [
      "Failed to open 0 out of 13 files.\n"
     ]
    }
   ],
   "source": [
    "company_foldername = \"anybotics.com\"\n",
    "file_paths = []\n",
    "for root, dirs, files in os.walk(cfg.PATH.CRAWLER + f\"/3_Websites/Texts_cleaned/{company_foldername}\"):\n",
    "    for file in files:\n",
    "        file_paths.append(os.path.join(root, file))\n",
    "\n",
    "files = []\n",
    "failed_to_open = 0\n",
    "\n",
    "for file_path in file_paths:\n",
    "    try:\n",
    "        with open(file_path, 'rb') as file:\n",
    "            files.append(client.files.create(file=file, purpose='assistants'))\n",
    "    except Exception as e:\n",
    "        failed_to_open += 1\n",
    "\n",
    "print(f\"Failed to open {failed_to_open} out of {len(file_paths)} files.\")"
   ]
  },
  {
   "cell_type": "code",
   "execution_count": 36,
   "metadata": {},
   "outputs": [
    {
     "data": {
      "text/plain": [
       "['C:\\\\Users\\\\levin\\\\Documents\\\\IFZ\\\\GitHub\\\\AI-and-Impact-Investing\\\\DATA\\\\CRAWLER/3_Websites/Texts_cleaned/anybotics.com\\\\10_anybotics-com-news-first-anybotics-reseller-summit-drives-global-inspection-transformation.txt',\n",
       " 'C:\\\\Users\\\\levin\\\\Documents\\\\IFZ\\\\GitHub\\\\AI-and-Impact-Investing\\\\DATA\\\\CRAWLER/3_Websites/Texts_cleaned/anybotics.com\\\\11_anybotics-com-robotics-robot-capabilitie.txt',\n",
       " 'C:\\\\Users\\\\levin\\\\Documents\\\\IFZ\\\\GitHub\\\\AI-and-Impact-Investing\\\\DATA\\\\CRAWLER/3_Websites/Texts_cleaned/anybotics.com\\\\12_anybotics-com--page_id-10120-preview-true.txt',\n",
       " 'C:\\\\Users\\\\levin\\\\Documents\\\\IFZ\\\\GitHub\\\\AI-and-Impact-Investing\\\\DATA\\\\CRAWLER/3_Websites/Texts_cleaned/anybotics.com\\\\13_anybotics-com-get-started-partner.txt',\n",
       " 'C:\\\\Users\\\\levin\\\\Documents\\\\IFZ\\\\GitHub\\\\AI-and-Impact-Investing\\\\DATA\\\\CRAWLER/3_Websites/Texts_cleaned/anybotics.com\\\\1_anybotics-com-get-started.txt',\n",
       " 'C:\\\\Users\\\\levin\\\\Documents\\\\IFZ\\\\GitHub\\\\AI-and-Impact-Investing\\\\DATA\\\\CRAWLER/3_Websites/Texts_cleaned/anybotics.com\\\\2_anybotics-com-about-us-company-page-2.txt',\n",
       " 'C:\\\\Users\\\\levin\\\\Documents\\\\IFZ\\\\GitHub\\\\AI-and-Impact-Investing\\\\DATA\\\\CRAWLER/3_Websites/Texts_cleaned/anybotics.com\\\\3_anybotics-com-industries-robotic-inspection-mining-metals-mineral.txt',\n",
       " 'C:\\\\Users\\\\levin\\\\Documents\\\\IFZ\\\\GitHub\\\\AI-and-Impact-Investing\\\\DATA\\\\CRAWLER/3_Websites/Texts_cleaned/anybotics.com\\\\4_anybotics-com-robotic.txt',\n",
       " 'C:\\\\Users\\\\levin\\\\Documents\\\\IFZ\\\\GitHub\\\\AI-and-Impact-Investing\\\\DATA\\\\CRAWLER/3_Websites/Texts_cleaned/anybotics.com\\\\5_anybotics-com-about-us-company.txt',\n",
       " 'C:\\\\Users\\\\levin\\\\Documents\\\\IFZ\\\\GitHub\\\\AI-and-Impact-Investing\\\\DATA\\\\CRAWLER/3_Websites/Texts_cleaned/anybotics.com\\\\6_anybotics-com-anybotics-robot-data-policy-pdf.txt',\n",
       " 'C:\\\\Users\\\\levin\\\\Documents\\\\IFZ\\\\GitHub\\\\AI-and-Impact-Investing\\\\DATA\\\\CRAWLER/3_Websites/Texts_cleaned/anybotics.com\\\\7_anybotics-com-news-autonomous-inspection-for-enhanced-nuclear-safety-at-onkalo.txt',\n",
       " 'C:\\\\Users\\\\levin\\\\Documents\\\\IFZ\\\\GitHub\\\\AI-and-Impact-Investing\\\\DATA\\\\CRAWLER/3_Websites/Texts_cleaned/anybotics.com\\\\8_anybotics-com-career-#storie.txt',\n",
       " 'C:\\\\Users\\\\levin\\\\Documents\\\\IFZ\\\\GitHub\\\\AI-and-Impact-Investing\\\\DATA\\\\CRAWLER/3_Websites/Texts_cleaned/anybotics.com\\\\9_anybotics-com-ne.txt']"
      ]
     },
     "execution_count": 36,
     "metadata": {},
     "output_type": "execute_result"
    }
   ],
   "source": [
    "file_paths"
   ]
  },
  {
   "cell_type": "code",
   "execution_count": 37,
   "metadata": {},
   "outputs": [
    {
     "data": {
      "text/plain": [
       "[FileObject(id='file-FsK2WS8Nca6Nmpn5Yh6cRTG8', bytes=5893, created_at=1712220332, filename='10_anybotics-com-news-first-anybotics-reseller-summit-drives-global-inspection-transformation.txt', object='file', purpose='assistants', status='processed', status_details=None),\n",
       " FileObject(id='file-Q5JIbx8owTzMTyVj8Uw6pNFI', bytes=3960, created_at=1712220333, filename='11_anybotics-com-robotics-robot-capabilitie.txt', object='file', purpose='assistants', status='processed', status_details=None),\n",
       " FileObject(id='file-abTmpuwMOzfxR8F2tSFQAIX3', bytes=3603, created_at=1712220333, filename='12_anybotics-com--page_id-10120-preview-true.txt', object='file', purpose='assistants', status='processed', status_details=None),\n",
       " FileObject(id='file-sfuqp9QLdPWIBb0DIfgPqvPy', bytes=1969, created_at=1712220334, filename='13_anybotics-com-get-started-partner.txt', object='file', purpose='assistants', status='processed', status_details=None),\n",
       " FileObject(id='file-zVoj4LqaWoqAFnRAseabdeLa', bytes=2131, created_at=1712220334, filename='1_anybotics-com-get-started.txt', object='file', purpose='assistants', status='processed', status_details=None),\n",
       " FileObject(id='file-DautxAUKak4v988prbGMGwus', bytes=7374, created_at=1712220335, filename='2_anybotics-com-about-us-company-page-2.txt', object='file', purpose='assistants', status='processed', status_details=None),\n",
       " FileObject(id='file-gKFsgMChtrDYJQhRXzQrD8oT', bytes=3796, created_at=1712220336, filename='3_anybotics-com-industries-robotic-inspection-mining-metals-mineral.txt', object='file', purpose='assistants', status='processed', status_details=None),\n",
       " FileObject(id='file-mdO5IHVHV1iXQRbgOIVLkN3o', bytes=2160, created_at=1712220336, filename='4_anybotics-com-robotic.txt', object='file', purpose='assistants', status='processed', status_details=None),\n",
       " FileObject(id='file-Pg6SWpKbEczcZnTlDPxoJ1dV', bytes=7538, created_at=1712220337, filename='5_anybotics-com-about-us-company.txt', object='file', purpose='assistants', status='processed', status_details=None),\n",
       " FileObject(id='file-bQddMaCCGJPaZ2oJt3GysePJ', bytes=16831, created_at=1712220337, filename='6_anybotics-com-anybotics-robot-data-policy-pdf.txt', object='file', purpose='assistants', status='processed', status_details=None),\n",
       " FileObject(id='file-jFeco0AxkAIlDkVxlbmVaAF5', bytes=5608, created_at=1712220338, filename='7_anybotics-com-news-autonomous-inspection-for-enhanced-nuclear-safety-at-onkalo.txt', object='file', purpose='assistants', status='processed', status_details=None),\n",
       " FileObject(id='file-l83cdkHPPtWCewrMDvWnFeY3', bytes=10148, created_at=1712220339, filename='8_anybotics-com-career-#storie.txt', object='file', purpose='assistants', status='processed', status_details=None),\n",
       " FileObject(id='file-KTsM1YAQrfQWjbcx1nhjo7Mj', bytes=3977, created_at=1712220339, filename='9_anybotics-com-ne.txt', object='file', purpose='assistants', status='processed', status_details=None)]"
      ]
     },
     "execution_count": 37,
     "metadata": {},
     "output_type": "execute_result"
    }
   ],
   "source": [
    "files"
   ]
  },
  {
   "cell_type": "markdown",
   "metadata": {},
   "source": [
    "### HTML"
   ]
  },
  {
   "cell_type": "code",
   "execution_count": 4,
   "metadata": {},
   "outputs": [
    {
     "data": {
      "text/plain": [
       "FileObject(id='file-ymyN8zUmUNiGg4aYKxEbrVqT', bytes=617127, created_at=1710239967, filename='index.html', object='file', purpose='assistants', status='processed', status_details=None)"
      ]
     },
     "execution_count": 4,
     "metadata": {},
     "output_type": "execute_result"
    }
   ],
   "source": [
    "# html_path = cfg.PATH.HTMLS+r\"\\ANYbotics_Industry\\www.anybotics.com\\index.html\"\n",
    "# def read_html_file(file_path):\n",
    "#     with open(file_path, 'r') as file:\n",
    "#         html_code = file.read()\n",
    "#     return html_code\n",
    "\n",
    "# html_file = client.files.create(file=open(html_path, 'rb'),\n",
    "#                                 purpose=\"assistants\")\n",
    "# html_file"
   ]
  },
  {
   "cell_type": "markdown",
   "metadata": {},
   "source": [
    "## Chat"
   ]
  },
  {
   "cell_type": "code",
   "execution_count": 9,
   "metadata": {},
   "outputs": [],
   "source": [
    "history = []"
   ]
  },
  {
   "cell_type": "markdown",
   "metadata": {},
   "source": [
    "### Assistant"
   ]
  },
  {
   "cell_type": "code",
   "execution_count": 39,
   "metadata": {},
   "outputs": [
    {
     "data": {
      "text/plain": [
       "[FileObject(id='file-FsK2WS8Nca6Nmpn5Yh6cRTG8', bytes=5893, created_at=1712220332, filename='10_anybotics-com-news-first-anybotics-reseller-summit-drives-global-inspection-transformation.txt', object='file', purpose='assistants', status='processed', status_details=None),\n",
       " FileObject(id='file-Q5JIbx8owTzMTyVj8Uw6pNFI', bytes=3960, created_at=1712220333, filename='11_anybotics-com-robotics-robot-capabilitie.txt', object='file', purpose='assistants', status='processed', status_details=None),\n",
       " FileObject(id='file-abTmpuwMOzfxR8F2tSFQAIX3', bytes=3603, created_at=1712220333, filename='12_anybotics-com--page_id-10120-preview-true.txt', object='file', purpose='assistants', status='processed', status_details=None),\n",
       " FileObject(id='file-sfuqp9QLdPWIBb0DIfgPqvPy', bytes=1969, created_at=1712220334, filename='13_anybotics-com-get-started-partner.txt', object='file', purpose='assistants', status='processed', status_details=None),\n",
       " FileObject(id='file-zVoj4LqaWoqAFnRAseabdeLa', bytes=2131, created_at=1712220334, filename='1_anybotics-com-get-started.txt', object='file', purpose='assistants', status='processed', status_details=None),\n",
       " FileObject(id='file-DautxAUKak4v988prbGMGwus', bytes=7374, created_at=1712220335, filename='2_anybotics-com-about-us-company-page-2.txt', object='file', purpose='assistants', status='processed', status_details=None),\n",
       " FileObject(id='file-gKFsgMChtrDYJQhRXzQrD8oT', bytes=3796, created_at=1712220336, filename='3_anybotics-com-industries-robotic-inspection-mining-metals-mineral.txt', object='file', purpose='assistants', status='processed', status_details=None),\n",
       " FileObject(id='file-mdO5IHVHV1iXQRbgOIVLkN3o', bytes=2160, created_at=1712220336, filename='4_anybotics-com-robotic.txt', object='file', purpose='assistants', status='processed', status_details=None),\n",
       " FileObject(id='file-Pg6SWpKbEczcZnTlDPxoJ1dV', bytes=7538, created_at=1712220337, filename='5_anybotics-com-about-us-company.txt', object='file', purpose='assistants', status='processed', status_details=None),\n",
       " FileObject(id='file-bQddMaCCGJPaZ2oJt3GysePJ', bytes=16831, created_at=1712220337, filename='6_anybotics-com-anybotics-robot-data-policy-pdf.txt', object='file', purpose='assistants', status='processed', status_details=None),\n",
       " FileObject(id='file-jFeco0AxkAIlDkVxlbmVaAF5', bytes=5608, created_at=1712220338, filename='7_anybotics-com-news-autonomous-inspection-for-enhanced-nuclear-safety-at-onkalo.txt', object='file', purpose='assistants', status='processed', status_details=None),\n",
       " FileObject(id='file-l83cdkHPPtWCewrMDvWnFeY3', bytes=10148, created_at=1712220339, filename='8_anybotics-com-career-#storie.txt', object='file', purpose='assistants', status='processed', status_details=None),\n",
       " FileObject(id='file-KTsM1YAQrfQWjbcx1nhjo7Mj', bytes=3977, created_at=1712220339, filename='9_anybotics-com-ne.txt', object='file', purpose='assistants', status='processed', status_details=None)]"
      ]
     },
     "execution_count": 39,
     "metadata": {},
     "output_type": "execute_result"
    }
   ],
   "source": [
    "files"
   ]
  },
  {
   "cell_type": "code",
   "execution_count": 41,
   "metadata": {},
   "outputs": [],
   "source": [
    "# # find the file with id KZMEMU6x5R8SmJ73WPC7wqPF \n",
    "# for file in files:\n",
    "#     if file.id == \"file-KZMEMU6x5R8SmJ73WPC7wqPF\":\n",
    "#         break"
   ]
  },
  {
   "cell_type": "code",
   "execution_count": 42,
   "metadata": {},
   "outputs": [],
   "source": [
    "assistant = client.beta.assistants.create(\n",
    "    name=\"SDG expert\",\n",
    "    instructions=\"You are a sustainable development goals expert. If asked for, answer questions based on the website.\",\n",
    "    tools=[{\"type\": \"retrieval\"}],\n",
    "    model=\"gpt-3.5-turbo\",\n",
    "    file_ids=[file.id for file in files]\n",
    ")\n",
    "# assistant = client.beta.assistants.create(\n",
    "#     name=\"SDG expert\",\n",
    "#     instructions=\"You are an expert on the SDGs.\",\n",
    "#     tools=[{\"type\": \"code_interpreter\"}],\n",
    "#     model=\"gpt-3.5-turbo\",\n",
    "#     )\n",
    "\n",
    "\n",
    "# assistant = client.beta.assistants.create(\n",
    "#     name=\"Math Tutor\",\n",
    "#     instructions=\"You are a personal math tutor. Write and run code to answer math questions.\",\n",
    "#     tools=[{\"type\": \"code_interpreter\"}],\n",
    "#     model=\"gpt-4-turbo-preview\"\n",
    "# )"
   ]
  },
  {
   "cell_type": "markdown",
   "metadata": {},
   "source": [
    "### Thread"
   ]
  },
  {
   "cell_type": "code",
   "execution_count": 54,
   "metadata": {},
   "outputs": [],
   "source": [
    "thread = client.beta.threads.create()"
   ]
  },
  {
   "cell_type": "markdown",
   "metadata": {},
   "source": [
    "### Message / few files"
   ]
  },
  {
   "cell_type": "code",
   "execution_count": 12,
   "metadata": {},
   "outputs": [],
   "source": [
    "message = client.beta.threads.messages.create(\n",
    "    thread_id=thread.id,\n",
    "    role=\"user\",\n",
    "    content=\"please describe the files I have provided to you.\"\n",
    ")\n",
    "\n",
    "run = client.beta.threads.runs.create(\n",
    "  thread_id=thread.id,\n",
    "  assistant_id=assistant.id,\n",
    ")"
   ]
  },
  {
   "cell_type": "code",
   "execution_count": 46,
   "metadata": {},
   "outputs": [
    {
     "name": "stdout",
     "output_type": "stream",
     "text": [
      "user: please describe the files I have provided to you.\n",
      "assistant: The first file is an article about the first ANYbotics Reseller Summit that took place in Zurich. The summit brought together 25 participants from 8 countries to deepen collaboration and equip global reseller partners with tools for joint market success in 2024. The event included workshops, networking opportunities, best practice exchanges, and a product showcase, focusing on incorporating robotic inspection technology into portfolios to transform industrial inspections worldwide【29†source】.\n"
     ]
    }
   ],
   "source": [
    "run = client.beta.threads.runs.retrieve(thread_id=thread.id, run_id=run.id)\n",
    "\n",
    "messages = client.beta.threads.messages.list(\n",
    "    thread_id = thread.id\n",
    ")\n",
    "for message in reversed(messages.data):\n",
    "    print(message.role + \": \"+ message.content[0] . text.value)"
   ]
  },
  {
   "cell_type": "code",
   "execution_count": 47,
   "metadata": {},
   "outputs": [],
   "source": [
    "message = client.beta.threads.messages.create(\n",
    "    thread_id=thread.id,\n",
    "    role=\"user\",\n",
    "    content=\"Based on the information on the website, which SDGs arguably does the company have in the focus?\"\n",
    ")\n",
    "\n",
    "run = client.beta.threads.runs.create(\n",
    "  thread_id=thread.id,\n",
    "  assistant_id=assistant.id,\n",
    ")"
   ]
  },
  {
   "cell_type": "code",
   "execution_count": 49,
   "metadata": {},
   "outputs": [
    {
     "name": "stdout",
     "output_type": "stream",
     "text": [
      "user: please describe the files I have provided to you.\n",
      "assistant: The first file is an article about the first ANYbotics Reseller Summit that took place in Zurich. The summit brought together 25 participants from 8 countries to deepen collaboration and equip global reseller partners with tools for joint market success in 2024. The event included workshops, networking opportunities, best practice exchanges, and a product showcase, focusing on incorporating robotic inspection technology into portfolios to transform industrial inspections worldwide【29†source】.\n",
      "user: Based on the information on the website, which SDGs arguably does the company have in the focus?\n",
      "assistant: ANYbotics, the company mentioned in the provided files, focuses on several Sustainable Development Goals (SDGs) with its robotic inspection solutions. Based on the information provided, here are some SDGs that the company's focus areas could align with:\n",
      "\n",
      "1. Goal 7: Affordable and Clean Energy - By improving industrial inspections through robotic technologies, ANYbotics can contribute to ensuring access to affordable, reliable, sustainable, and modern energy for all.\n",
      "\n",
      "2. Goal 9: Industry, Innovation, and Infrastructure - The company's development of autonomous robotic inspection solutions contributes to building resilient infrastructure, promoting sustainable industrialization, and fostering innovation.\n",
      "\n",
      "3. Goal 12: Responsible Consumption and Production - Utilizing robotic inspections can lead to more efficient and sustainable production processes, reducing waste and promoting responsible consumption.\n",
      "\n",
      "4. Goal 13: Climate Action - By enhancing industrial inspections with robotics, ANYbotics can help industries reduce their environmental impact and contribute to climate action efforts.\n",
      "\n",
      "These are just some of the SDGs that the focus areas of ANYbotics could potentially align with based on the information provided in the document【33†source】.\n"
     ]
    }
   ],
   "source": [
    "run = client.beta.threads.runs.retrieve(thread_id=thread.id, run_id=run.id)\n",
    "\n",
    "messages = client.beta.threads.messages.list(\n",
    "    thread_id = thread.id\n",
    ")\n",
    "for message in reversed(messages.data):\n",
    "    print(message.role + \": \"+ message.content[0] . text.value)"
   ]
  },
  {
   "cell_type": "code",
   "execution_count": 52,
   "metadata": {},
   "outputs": [
    {
     "name": "stdout",
     "output_type": "stream",
     "text": [
      "user: please describe the files I have provided to you.\n",
      "assistant: The first file is an article about the first ANYbotics Reseller Summit that took place in Zurich. The summit brought together 25 participants from 8 countries to deepen collaboration and equip global reseller partners with tools for joint market success in 2024. The event included workshops, networking opportunities, best practice exchanges, and a product showcase, focusing on incorporating robotic inspection technology into portfolios to transform industrial inspections worldwide【29†source】.\n",
      "user: Based on the information on the website, which SDGs arguably does the company have in the focus?\n",
      "assistant: ANYbotics, the company mentioned in the provided files, focuses on several Sustainable Development Goals (SDGs) with its robotic inspection solutions. Based on the information provided, here are some SDGs that the company's focus areas could align with:\n",
      "\n",
      "1. Goal 7: Affordable and Clean Energy - By improving industrial inspections through robotic technologies, ANYbotics can contribute to ensuring access to affordable, reliable, sustainable, and modern energy for all.\n",
      "\n",
      "2. Goal 9: Industry, Innovation, and Infrastructure - The company's development of autonomous robotic inspection solutions contributes to building resilient infrastructure, promoting sustainable industrialization, and fostering innovation.\n",
      "\n",
      "3. Goal 12: Responsible Consumption and Production - Utilizing robotic inspections can lead to more efficient and sustainable production processes, reducing waste and promoting responsible consumption.\n",
      "\n",
      "4. Goal 13: Climate Action - By enhancing industrial inspections with robotics, ANYbotics can help industries reduce their environmental impact and contribute to climate action efforts.\n",
      "\n",
      "These are just some of the SDGs that the focus areas of ANYbotics could potentially align with based on the information provided in the document【33†source】.\n",
      "user: What about the second and third file\n",
      "assistant: The second file contains information about webinars and product updates related to ANYbotics' robotic inspection solutions. One of the webinars mentioned is titled \"Robotic Inspection at Chemical Plants with BASF,\" indicating a focus on deploying robotic inspection technology in chemical plants for industrial inspections【39†source】.\n",
      "\n",
      "The third file seems to provide details about services and partnerships related to ANYbotics' robotic solutions in the Power & Utilities, Mining, Metals & Minerals industries. The company emphasizes the deployment and integration of their robotic solutions according to the needs of clients through regional services and global partners. The document also highlights various technology partnerships that drive solutions, such as integration with Cognite's DataOps platform, Accenture for digital transformation solutions, and collaboration with partners like BLK ARC, AWS, NVIDIA, and Siemens Xcelerator to optimize the performance and integration of robotic inspection services【41†source】. \n",
      "\n",
      "These documents suggest that ANYbotics' focus on robotic inspection solutions aligns with SDGs related to industry and innovation, sustainable infrastructure, responsible consumption and production, and potentially partnerships for technology advancement and efficient operations.\n",
      "user: What about the second and third file\n",
      "assistant: The second file provides information about ANYbotics' focus on enhancing human work, enabling sustainability, and promoting better societies through the use of autonomous robots. The company aims to empower businesses with cutting-edge robotics technology to facilitate collaboration between robots and humans seamlessly, leading to increased productivity, plant sustainability, and improved worker lives. ANYbotics emphasizes the creation of robotic solutions that add value to human work, automate dull, dirty, and dangerous jobs, and assist in achieving decarbonization, digitalization, automation, and safety goals while reducing environmental impact【45†source】.\n",
      "\n",
      "The third file focuses on the industrial applications of ANYbotics' robotic solutions in the Power & Utilities, Mining, Metals & Minerals industries. The company develops autonomous robots with the purpose of industrial deployment, supporting industry statements against weaponizing robots. The team at ANYbotics strives to pioneer robotics technology to deliver customer value through increased productivity, plant sustainability, and improved worker lives. The document also includes information about the company's leadership team and board of directors, highlighting their expertise in robotics, finance, marketing, operations, and academia【45†source】. \n",
      "\n",
      "From these files, it is evident that ANYbotics' focus areas align with Sustainable Development Goals related to industry and innovation, sustainable infrastructure, responsible consumption and production, and partnership for technology advancement and efficient operations.\n",
      "user: What about the second and third file\n"
     ]
    }
   ],
   "source": [
    "message = client.beta.threads.messages.create(\n",
    "    thread_id=thread.id,\n",
    "    role=\"user\",\n",
    "    content=\"What about the second and third file\"\n",
    ")\n",
    "\n",
    "run = client.beta.threads.runs.create(\n",
    "  thread_id=thread.id,\n",
    "  assistant_id=assistant.id,\n",
    ")\n",
    "run = client.beta.threads.runs.retrieve(thread_id=thread.id, run_id=run.id)\n",
    "\n",
    "messages = client.beta.threads.messages.list(\n",
    "    thread_id = thread.id\n",
    ")\n",
    "for message in reversed(messages.data):\n",
    "    print(message.role + \": \"+ message.content[0] . text.value)"
   ]
  },
  {
   "cell_type": "code",
   "execution_count": null,
   "metadata": {},
   "outputs": [],
   "source": []
  },
  {
   "cell_type": "markdown",
   "metadata": {},
   "source": [
    "### Message / all files / anybotics.com"
   ]
  },
  {
   "cell_type": "code",
   "execution_count": 122,
   "metadata": {},
   "outputs": [],
   "source": [
    "thread = client.beta.threads.create()"
   ]
  },
  {
   "cell_type": "code",
   "execution_count": 124,
   "metadata": {},
   "outputs": [
    {
     "name": "stdout",
     "output_type": "stream",
     "text": [
      "user: Based on the information in the provided files, which SDGs arguably does the company have in the focus?\n",
      "assistant: The company, ANYbotics, has a focus on several Sustainable Development Goals (SDGs) based on the information gathered from the provided files:\n",
      "\n",
      "1. **Industry, Innovation, and Infrastructure (SDG 9):** The company's innovative inspection robot technology plays a crucial role in the worldwide spread of autonomous inspection in various sectors such as oil and gas, chemicals, energy, railroads, and mining【31†source】. Additionally, the company collaborates with partners in strategic markets to drive growth, increase market penetration, and accelerate the global adoption of their robotic inspection solutions, which contributes to advancing industry and infrastructure【31†source】.\n",
      "\n",
      "2. **Decent Work and Economic Growth (SDG 8):** The company's robotic inspection solutions and collaborations can enhance equipment uptime, safety, and data-driven decision-making in industries like oil & gas, chemicals, power & utilities, mining, metals, and minerals【39†source】.\n",
      "\n",
      "3. **Affordable and Clean Energy (SDG 7):** By providing robotic solutions for sectors like oil and gas, as well as power and utilities, the company indirectly contributes to enhancing efficiency and safety in energy production【39†source】【61†source】.\n",
      "\n",
      "4. **Sustainable Cities and Communities (SDG 11):** The deployment of autonomous robots in areas like nuclear facilities, such as in the case of Onkalo's spent nuclear fuel repository, contributes to enhancing safety and productivity in urban infrastructure settings【61†source】.\n",
      "\n",
      "5. **Climate Action (SDG 13):** The company's focus on advancing robotic technologies for inspection purposes can lead to more efficient processes, potentially reducing energy consumption and environmental impact in various industries where their solutions are implemented.\n",
      "\n",
      "These are the SDGs that the company could be seen as having a focus on based on the information provided in the files.\n",
      "user: Based on the information in the provided files, which SDGs arguably does the company have in the focus?\n"
     ]
    },
    {
     "ename": "IndexError",
     "evalue": "list index out of range",
     "output_type": "error",
     "traceback": [
      "\u001b[1;31m---------------------------------------------------------------------------\u001b[0m",
      "\u001b[1;31mIndexError\u001b[0m                                Traceback (most recent call last)",
      "Cell \u001b[1;32mIn[124], line 18\u001b[0m\n\u001b[0;32m     14\u001b[0m messages \u001b[38;5;241m=\u001b[39m client\u001b[38;5;241m.\u001b[39mbeta\u001b[38;5;241m.\u001b[39mthreads\u001b[38;5;241m.\u001b[39mmessages\u001b[38;5;241m.\u001b[39mlist(\n\u001b[0;32m     15\u001b[0m     thread_id \u001b[38;5;241m=\u001b[39m thread\u001b[38;5;241m.\u001b[39mid\n\u001b[0;32m     16\u001b[0m )\n\u001b[0;32m     17\u001b[0m \u001b[38;5;28;01mfor\u001b[39;00m message \u001b[38;5;129;01min\u001b[39;00m \u001b[38;5;28mreversed\u001b[39m(messages\u001b[38;5;241m.\u001b[39mdata):\n\u001b[1;32m---> 18\u001b[0m     \u001b[38;5;28mprint\u001b[39m(message\u001b[38;5;241m.\u001b[39mrole \u001b[38;5;241m+\u001b[39m \u001b[38;5;124m\"\u001b[39m\u001b[38;5;124m: \u001b[39m\u001b[38;5;124m\"\u001b[39m\u001b[38;5;241m+\u001b[39m \u001b[43mmessage\u001b[49m\u001b[38;5;241;43m.\u001b[39;49m\u001b[43mcontent\u001b[49m\u001b[43m[\u001b[49m\u001b[38;5;241;43m0\u001b[39;49m\u001b[43m]\u001b[49m \u001b[38;5;241m.\u001b[39m text\u001b[38;5;241m.\u001b[39mvalue)\n",
      "\u001b[1;31mIndexError\u001b[0m: list index out of range"
     ]
    }
   ],
   "source": [
    "message = client.beta.threads.messages.create(\n",
    "    thread_id=thread.id,\n",
    "    role=\"user\",\n",
    "    content=\"Based on the information in the provided files, which SDGs arguably does the company have in the focus?\"\n",
    ")\n",
    "\n",
    "run = client.beta.threads.runs.create(\n",
    "  thread_id=thread.id,\n",
    "  assistant_id=assistant.id,\n",
    ")\n",
    "\n",
    "run = client.beta.threads.runs.retrieve(thread_id=thread.id, run_id=run.id)\n",
    "\n",
    "messages = client.beta.threads.messages.list(\n",
    "    thread_id = thread.id\n",
    ")\n",
    "for message in reversed(messages.data):\n",
    "    print(message.role + \": \"+ message.content[0] . text.value)"
   ]
  },
  {
   "cell_type": "code",
   "execution_count": 127,
   "metadata": {},
   "outputs": [
    {
     "name": "stdout",
     "output_type": "stream",
     "text": [
      "user: Based on the information in the provided files, which SDGs arguably does the company have in the focus?\n",
      "assistant: The company, ANYbotics, has a focus on several Sustainable Development Goals (SDGs) based on the information gathered from the provided files:\n",
      "\n",
      "1. **Industry, Innovation, and Infrastructure (SDG 9):** The company's innovative inspection robot technology plays a crucial role in the worldwide spread of autonomous inspection in various sectors such as oil and gas, chemicals, energy, railroads, and mining【31†source】. Additionally, the company collaborates with partners in strategic markets to drive growth, increase market penetration, and accelerate the global adoption of their robotic inspection solutions, which contributes to advancing industry and infrastructure【31†source】.\n",
      "\n",
      "2. **Decent Work and Economic Growth (SDG 8):** The company's robotic inspection solutions and collaborations can enhance equipment uptime, safety, and data-driven decision-making in industries like oil & gas, chemicals, power & utilities, mining, metals, and minerals【39†source】.\n",
      "\n",
      "3. **Affordable and Clean Energy (SDG 7):** By providing robotic solutions for sectors like oil and gas, as well as power and utilities, the company indirectly contributes to enhancing efficiency and safety in energy production【39†source】【61†source】.\n",
      "\n",
      "4. **Sustainable Cities and Communities (SDG 11):** The deployment of autonomous robots in areas like nuclear facilities, such as in the case of Onkalo's spent nuclear fuel repository, contributes to enhancing safety and productivity in urban infrastructure settings【61†source】.\n",
      "\n",
      "5. **Climate Action (SDG 13):** The company's focus on advancing robotic technologies for inspection purposes can lead to more efficient processes, potentially reducing energy consumption and environmental impact in various industries where their solutions are implemented.\n",
      "\n",
      "These are the SDGs that the company could be seen as having a focus on based on the information provided in the files.\n",
      "user: Based on the information in the provided files, which SDGs arguably does the company have in the focus?\n",
      "assistant: The company, ANYbotics, focuses on several Sustainable Development Goals (SDGs) based on the information gathered from the provided files:\n",
      "\n",
      "1. **Industry, Innovation, and Infrastructure (SDG 9):** ANYbotics plays a crucial role in the global spread of autonomous inspection in various sectors like oil and gas, chemicals, energy, railroads, and mining. Their innovative inspection robot technology and collaborations with partners contribute to advancing industry, innovation, and infrastructure【30†source】【31†source】.\n",
      "\n",
      "2. **Sustainable Cities and Communities (SDG 11):** Deployment of their autonomous robots, like in the case of Onkalo's nuclear safety inspections, improves safety and productivity in urban infrastructure settings, aligning with the goal of sustainable cities and communities【45†source】.\n",
      "\n",
      "3. **Affordable and Clean Energy (SDG 7):** By providing robotic solutions for industries such as oil and gas, power and utilities, the company supports enhancing equipment uptime, safety, and data-driven decision-making, indirectly contributing to the goal of affordable and clean energy【34†source】【39†source】.\n",
      "\n",
      "4. **Climate Action (SDG 13):** The focus on advancing robotic technologies for inspection purposes can lead to more efficient processes, potentially reducing energy consumption and environmental impact in various industries where their solutions are deployed.\n",
      "\n",
      "These are the key SDGs that the company ANYbotics arguably has in focus based on the information contained in the files.\n",
      "user: Can you provide a company relative Ranking of the SDG Goals arguebly in the focus of the company based on the provided files?\n",
      "assistant: Based on the information from the provided files, here is a relative ranking of the Sustainable Development Goals (SDGs) that the company ANYbotics arguably has in focus, from the most to the least emphasized:\n",
      "\n",
      "1. **Industry, Innovation, and Infrastructure (SDG 9):** This goal appears to be the most prominent focus for ANYbotics based on their role in the global spread of autonomous inspection technology and their collaborations with partners to drive growth and market penetration in various industrial sectors【30†source】【31†source】.\n",
      "\n",
      "2. **Sustainable Cities and Communities (SDG 11):** The company's involvement in enhancing safety and productivity through autonomous robotic inspections in settings like nuclear facilities and urban infrastructure places a significant emphasis on this goal【45†source】.\n",
      "\n",
      "3. **Affordable and Clean Energy (SDG 7):** By providing robotic solutions to industries such as oil and gas, power, and utilities to improve equipment uptime and safety, ANYbotics contributes to the advancement of affordable and clean energy, though to a slightly lesser extent compared to SDGs 9 and 11【34†source】【39†source】.\n",
      "\n",
      "4. **Climate Action (SDG 13):** The company's focus on advancing robotic technologies for inspection purposes can indirectly support climate action efforts by promoting more efficient processes and potentially reducing energy consumption and environmental impact across various industries where their solutions are implemented.\n",
      "\n",
      "This ranking is based on the activities, partnerships, and solutions highlighted in the files provided for ANYbotics, suggesting a primary focus on SDGs related to industry innovation and infrastructure, followed by sustainable cities and communities, affordable and clean energy, and finally climate action.\n",
      "user: Can you provide a company relative Ranking of the SDG Goals arguebly in the focus of the company based on the provided files?\n",
      "assistant: Based on the information gleaned from the provided files, a relative ranking of the Sustainable Development Goals (SDGs) that the company ANYbotics arguably has in focus can be outlined as follows:\n",
      "\n",
      "1. **Industry, Innovation, and Infrastructure (SDG 9):** This SDG seems to be a top priority for ANYbotics, evident from their pivotal role in the global spread of autonomous inspection technology across various industrial sectors such as oil and gas, chemicals, energy, railroads, and mining. The company's strategic collaborations with global reseller partners aim to drive growth, increase market penetration, and accelerate the adoption of their robotic inspection solutions, underscoring a strong focus on industry, innovation, and infrastructure【30†source】【31†source】.\n",
      "\n",
      "2. **Sustainable Cities and Communities (SDG 11):** ANYbotics demonstrates a substantial interest in this SDG through their deployment of autonomous robots for enhancing safety and productivity in settings like nuclear facilities, reflecting a commitment to sustainable urban infrastructure and community development【45†source】.\n",
      "\n",
      "3. **Affordable and Clean Energy (SDG 7):** The company's provision of robotic solutions for industries such as oil and gas, power, and utilities to enhance equipment uptime, safety, and data-driven decision-making aligns with the goal of affordable and clean energy, though to a slightly lesser extent compared to SDGs 9 and 11. By supporting efficiency and safety in energy production sectors, ANYbotics contributes towards cleaner and more accessible energy sources【34†source】【39†source】.\n",
      "\n",
      "4. **Climate Action (SDG 13):** Although not as explicitly highlighted in the provided files, the advancement of robotic technologies for inspection purposes by ANYbotics hints at potential contributions to climate action efforts. Efficient processes enabled by their solutions may lead to reduced energy consumption and environmental impact, aligning with the objectives of SDG 13.\n",
      "\n",
      "This ranking is based on the activities, partnerships, and solutions emphasized in the documents, suggesting that ANYbotics places a primary focus on SDGs related to industry innovation and infrastructure, followed by sustainable cities and communities, affordable and clean energy, and climate action.\n",
      "user: Can you provide a company relative Ranking of the SDG Goals arguebly in the focus of the company based on the provided files?\n"
     ]
    }
   ],
   "source": [
    "message = client.beta.threads.messages.create(\n",
    "    thread_id=thread.id,\n",
    "    role=\"user\",\n",
    "    content=\"Can you provide a company relative Ranking of the SDG Goals arguebly in the focus of the company based on the provided files?\"\n",
    ")\n",
    "\n",
    "run = client.beta.threads.runs.create(\n",
    "  thread_id=thread.id,\n",
    "  assistant_id=assistant.id,\n",
    ")\n",
    "\n",
    "run = client.beta.threads.runs.retrieve(thread_id=thread.id, run_id=run.id)\n",
    "\n",
    "messages = client.beta.threads.messages.list(\n",
    "    thread_id = thread.id\n",
    ")\n",
    "for message in reversed(messages.data):\n",
    "    print(message.role + \": \"+ message.content[0] . text.value)"
   ]
  },
  {
   "cell_type": "markdown",
   "metadata": {},
   "source": [
    "### Message / all files / beekeeper.io"
   ]
  },
  {
   "cell_type": "code",
   "execution_count": 2,
   "metadata": {},
   "outputs": [
    {
     "name": "stdout",
     "output_type": "stream",
     "text": [
      "Failed to open 0 out of 146 files.\n",
      "Failed files: []\n"
     ]
    }
   ],
   "source": [
    "company_foldername = \"beekeeper.io\"\n",
    "file_paths = []\n",
    "for root, dirs, files in os.walk(cfg.PATH.CRAWLER + f\"/3_Websites/Texts_cleaned/{company_foldername}\"):\n",
    "    for file in files:\n",
    "        file_paths.append(os.path.join(root, file))\n",
    "\n",
    "files = []\n",
    "failed_to_open = 0\n",
    "failed_files = []\n",
    "\n",
    "for file_path in file_paths:\n",
    "    try:\n",
    "        with open(file_path, 'rb') as file:\n",
    "            files.append(client.files.create(file=file, purpose='assistants'))\n",
    "    except Exception as e:\n",
    "        failed_to_open += 1\n",
    "        failed_files.append(file_path)\n",
    "\n",
    "print(f\"Failed to open {failed_to_open} out of {len(file_paths)} files.\")\n",
    "print(f\"Failed files: {failed_files}\")"
   ]
  },
  {
   "cell_type": "code",
   "execution_count": 3,
   "metadata": {},
   "outputs": [],
   "source": [
    "master_file = \"\"\n",
    "for file_path in file_paths:\n",
    "    with open(file_path, 'r', encoding='utf-8') as file:\n",
    "        master_file += file.read()\n",
    "        # add \"\\n\\n new file \\n\\n\" to separate the files if it not the last file\n",
    "        if file_path != file_paths[-1]:\n",
    "            master_file += \"\\n\\n new file \\n\\n\"\n",
    "# save the master file using company_foldername\n",
    "with open(f\"{cfg.PATH.CRAWLER}/3_Websites/Texts_cleaned/{company_foldername}_master.txt\", 'w', encoding='utf-8') as file:\n",
    "    file.write(master_file)"
   ]
  },
  {
   "cell_type": "code",
   "execution_count": 4,
   "metadata": {},
   "outputs": [],
   "source": [
    "# read in master file as file object\n",
    "master_file = client.files.create(file=open(f\"{cfg.PATH.CRAWLER}/3_Websites/Texts_cleaned/{company_foldername}_master.txt\", 'rb'),\n",
    "                                  purpose='assistants')"
   ]
  },
  {
   "cell_type": "code",
   "execution_count": 5,
   "metadata": {},
   "outputs": [
    {
     "data": {
      "text/plain": [
       "FileObject(id='file-VUnmdX0XMy2jxBO0uzJGbY87', bytes=557265, created_at=1712232787, filename='beekeeper.io_master.txt', object='file', purpose='assistants', status='processed', status_details=None)"
      ]
     },
     "execution_count": 5,
     "metadata": {},
     "output_type": "execute_result"
    }
   ],
   "source": [
    "master_file"
   ]
  },
  {
   "cell_type": "code",
   "execution_count": 6,
   "metadata": {},
   "outputs": [],
   "source": [
    "thread = client.beta.threads.create()"
   ]
  },
  {
   "cell_type": "code",
   "execution_count": 13,
   "metadata": {},
   "outputs": [],
   "source": [
    "assistant = client.beta.assistants.create(\n",
    "    name=\"SDG expert\",\n",
    "    instructions=\"You are a sustainable development goals expert. If asked for, answer questions based on the website.\",\n",
    "    tools=[{\"type\": \"retrieval\"}],\n",
    "    model=\"gpt-3.5-turbo\",\n",
    "    file_ids=[master_file.id]\n",
    ")"
   ]
  },
  {
   "cell_type": "code",
   "execution_count": 14,
   "metadata": {},
   "outputs": [
    {
     "name": "stdout",
     "output_type": "stream",
     "text": [
      "user: Based on the information provided, which SDGs arguably does the company have in the focus?\n",
      "user: please describe the files I have provided to you.\n",
      "assistant: The provided files appear to be web content related to Beekeeper, a company focusing on digital workplace solutions for frontline workers. The content includes information on employee lifecycle management, frontline workforce insights, maintenance and inspection checklists, employee engagement, and mobile workforce management best practices. The company is recognized for its contributions in connecting non-desk teams using a mobile-first operational communication platform and has won several awards in the industry for its innovative solutions and employee engagement efforts.\n",
      "\n",
      "Based on this information, the company's focus on employee engagement, frontline workforce empowerment, and digital workplace solutions aligns well with several Sustainable Development Goals (SDGs) such as Goal 8 (Decent Work and Economic Growth), Goal 9 (Industry, Innovation, and Infrastructure), and Goal 10 (Reduced Inequalities). By improving communication, streamlining operations, and empowering frontline workers, Beekeeper's efforts likely contribute to promoting sustainable economic growth, innovation in industry practices, and reducing inequalities in access to information and opportunities among workers.\n",
      "user: Based on the information provided, which SDGs arguably does the company have in the focus?\n"
     ]
    }
   ],
   "source": [
    "message = client.beta.threads.messages.create(\n",
    "    thread_id=thread.id,\n",
    "    role=\"user\",\n",
    "    content=\"Based on the information provided, which SDGs arguably does the company have in the focus?\"\n",
    ")\n",
    "\n",
    "messages = client.beta.threads.messages.list(\n",
    "    thread_id = thread.id\n",
    ")\n",
    "for message in reversed(messages.data):\n",
    "    print(message.role + \": \"+ message.content[0] . text.value)"
   ]
  },
  {
   "cell_type": "code",
   "execution_count": 17,
   "metadata": {},
   "outputs": [
    {
     "name": "stdout",
     "output_type": "stream",
     "text": [
      "user: Based on the information provided, which SDGs arguably does the company have in the focus?\n",
      "user: please describe the files I have provided to you.\n",
      "assistant: The provided files appear to be web content related to Beekeeper, a company focusing on digital workplace solutions for frontline workers. The content includes information on employee lifecycle management, frontline workforce insights, maintenance and inspection checklists, employee engagement, and mobile workforce management best practices. The company is recognized for its contributions in connecting non-desk teams using a mobile-first operational communication platform and has won several awards in the industry for its innovative solutions and employee engagement efforts.\n",
      "\n",
      "Based on this information, the company's focus on employee engagement, frontline workforce empowerment, and digital workplace solutions aligns well with several Sustainable Development Goals (SDGs) such as Goal 8 (Decent Work and Economic Growth), Goal 9 (Industry, Innovation, and Infrastructure), and Goal 10 (Reduced Inequalities). By improving communication, streamlining operations, and empowering frontline workers, Beekeeper's efforts likely contribute to promoting sustainable economic growth, innovation in industry practices, and reducing inequalities in access to information and opportunities among workers.\n",
      "user: Based on the information provided, which SDGs arguably does the company have in the focus?\n",
      "user: Can you provide a company relative Ranking of the SDG Goals arguebly in the focus of the company based on the provided files?\n",
      "assistant: Based on the information provided in the files about Beekeeper, the company's focus areas align well with the following Sustainable Development Goals (SDGs) in a relative ranking:\n",
      "\n",
      "1. **Goal 8: Decent Work and Economic Growth**: This goal appears to be a primary focus for Beekeeper as the company is involved in employee lifecycle management, which contributes to creating decent work environments and promoting economic growth through efficient workforce management practices.\n",
      "\n",
      "2. **Goal 9: Industry, Innovation, and Infrastructure**: Beekeeper's emphasis on frontline workforce insights, mobile workforce management, and digital workplace solutions indicates a focus on industry innovation and infrastructure development to optimize operations and improve communication within organizations.\n",
      "\n",
      "3. **Goal 10: Reduced Inequalities**: Given Beekeeper's commitment to employee engagement and connecting non-desk teams, the company likely aims to reduce inequalities within the workforce by providing equal access to information, communication tools, and opportunities for frontline workers.\n",
      "\n",
      "While these three SDGs appear to be particularly relevant to Beekeeper based on the information provided, other goals such as Goal 3 (Good Health and Well-being) and Goal 17 (Partnerships for the Goals) may also be indirectly supported through the company's efforts to improve frontline workforce management and employee engagement.\n",
      "user: Can you provide a company relative Ranking of the SDG Goals arguebly in the focus of the company based on the provided files?\n",
      "assistant: Based on the information provided in the files about Beekeeper, we can provide a relative ranking of the Sustainable Development Goals (SDGs) arguably in the focus of the company:\n",
      "\n",
      "1. **Goal 8: Decent Work and Economic Growth**: This goal is likely the primary focus for Beekeeper as the company is involved in employee lifecycle management and workforce optimization, contributing to creating decent work environments and fostering economic growth through efficient workforce practices.\n",
      "\n",
      "2. **Goal 9: Industry, Innovation, and Infrastructure**: Beekeeper's emphasis on providing innovative digital workplace solutions for frontline workers and improving workforce insights suggests a strong alignment with Goal 9, focusing on industry innovation and infrastructure development.\n",
      "\n",
      "3. **Goal 10: Reduced Inequalities**: Beekeeper's commitment to improving communication and engagement for all employees, including frontline workers, indicates a focus on reducing inequalities within the workforce and promoting equal access to information and opportunities.\n",
      "\n",
      "4. **Goal 3: Good Health and Well-being**: While not as prominent as the above goals, Beekeeper's support for frontline workforce well-being through effective communication and engagement may contribute to advancing Goal 3, which aims to ensure healthy lives and well-being for all at all ages.\n",
      "\n",
      "5. **Goal 17: Partnerships for the Goals**: Collaboration and partnerships are essential components of Beekeeper's approach to connecting non-desk teams and implementing digital workplace solutions, reflecting an alignment with Goal 17 to strengthen global partnerships for sustainable development.\n",
      "\n",
      "This ranking reflects the areas where Beekeeper's activities and solutions are most likely to contribute significantly to the advancement of the respective SDGs.\n",
      "user: Can you provide a company relative Ranking of the SDG Goals arguebly in the focus of the company based on the provided files?\n"
     ]
    }
   ],
   "source": [
    "message = client.beta.threads.messages.create(\n",
    "    thread_id=thread.id,\n",
    "    role=\"user\",\n",
    "    content=\"Can you provide a company relative Ranking of the SDG Goals arguebly in the focus of the company based on the provided files?\"\n",
    ")\n",
    "\n",
    "run = client.beta.threads.runs.create(\n",
    "  thread_id=thread.id,\n",
    "  assistant_id=assistant.id,\n",
    ")\n",
    "\n",
    "run = client.beta.threads.runs.retrieve(thread_id=thread.id, run_id=run.id)\n",
    "\n",
    "messages = client.beta.threads.messages.list(\n",
    "    thread_id = thread.id\n",
    ")\n",
    "for message in reversed(messages.data):\n",
    "    print(message.role + \": \"+ message.content[0] . text.value)"
   ]
  },
  {
   "cell_type": "markdown",
   "metadata": {},
   "source": [
    "# Other"
   ]
  },
  {
   "cell_type": "code",
   "execution_count": null,
   "metadata": {},
   "outputs": [],
   "source": [
    "chat_sess.chat('Hi')"
   ]
  },
  {
   "cell_type": "code",
   "execution_count": null,
   "metadata": {},
   "outputs": [],
   "source": [
    "chat_sess.chat('What can you tell me about the content of this html?\\n')"
   ]
  },
  {
   "cell_type": "code",
   "execution_count": null,
   "metadata": {},
   "outputs": [],
   "source": [
    "chat_sess.chat(html_file)"
   ]
  },
  {
   "cell_type": "markdown",
   "metadata": {},
   "source": [
    "## Websites"
   ]
  },
  {
   "cell_type": "code",
   "execution_count": null,
   "metadata": {},
   "outputs": [],
   "source": [
    "pd.read_csv(cfg.PATH.HTMLS+\"\\websites.csv\")\n",
    "# Swissto12_Industry is complete"
   ]
  }
 ],
 "metadata": {
  "kernelspec": {
   "display_name": "Python 3",
   "language": "python",
   "name": "python3"
  },
  "language_info": {
   "codemirror_mode": {
    "name": "ipython",
    "version": 3
   },
   "file_extension": ".py",
   "mimetype": "text/x-python",
   "name": "python",
   "nbconvert_exporter": "python",
   "pygments_lexer": "ipython3",
   "version": "3.11.9"
  },
  "orig_nbformat": 4,
  "vscode": {
   "interpreter": {
    "hash": "5f20c082c783b22aca15f203fe61a075808f031a7577595d9ee07229454f33de"
   }
  }
 },
 "nbformat": 4,
 "nbformat_minor": 2
}
