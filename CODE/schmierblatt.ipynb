{
 "cells": [
  {
   "cell_type": "markdown",
   "metadata": {},
   "source": [
    "# Test"
   ]
  },
  {
   "cell_type": "markdown",
   "metadata": {},
   "source": [
    "## Import"
   ]
  },
  {
   "cell_type": "code",
   "execution_count": 1,
   "metadata": {},
   "outputs": [
    {
     "name": "stdout",
     "output_type": "stream",
     "text": [
      "Put your API key\n"
     ]
    }
   ],
   "source": [
    "import numpy as np\n",
    "import pandas as pd\n",
    "import sys,os\n",
    "sys.path.append('../')\n",
    "# from utils.misc import *\n",
    "\n",
    "# from preprocess import *\n",
    "# from utils.dataset import DatasetManager\n",
    "# from train import *\n",
    "\n",
    "# from pqdm.processes import pqdm\n",
    "from tqdm import tqdm\n",
    "# from matplotlib import pyplot as plt\n",
    "\n",
    "from configs.misc_config import cfg\n",
    "# from models.Linear import OLS\n",
    "\n",
    "# import torch\n",
    "# from torchsummary import summary\n",
    "\n",
    "from utils.chatutils import ChatSession,openai\n",
    "\n",
    "chat_sess = ChatSession()\n",
    "chat_sess\n",
    "\n",
    "from openai import OpenAI\n",
    "\n",
    "print(\"Put your API key\")\n",
    "openai.api_key = \"\"\n",
    "client = OpenAI(api_key=\"\")"
   ]
  },
  {
   "cell_type": "markdown",
   "metadata": {},
   "source": [
    "## File"
   ]
  },
  {
   "cell_type": "markdown",
   "metadata": {},
   "source": [
    "### Text"
   ]
  },
  {
   "cell_type": "code",
   "execution_count": 2,
   "metadata": {},
   "outputs": [
    {
     "data": {
      "text/plain": [
       "FileObject(id='file-0LOrgze1m2zm0vBGF6q4PJw1', bytes=2302, created_at=1710241031, filename='website_1.txt', object='file', purpose='assistants', status='processed', status_details=None)"
      ]
     },
     "execution_count": 2,
     "metadata": {},
     "output_type": "execute_result"
    }
   ],
   "source": [
    "file_path = cfg.PATH.DATA+r\"\\website_1.txt\"\n",
    "file = client.files.create(file=open(file_path, 'rb'),\n",
    "                                purpose=\"assistants\")\n",
    "file"
   ]
  },
  {
   "cell_type": "markdown",
   "metadata": {},
   "source": [
    "### HTML"
   ]
  },
  {
   "cell_type": "code",
   "execution_count": 4,
   "metadata": {},
   "outputs": [
    {
     "data": {
      "text/plain": [
       "FileObject(id='file-ymyN8zUmUNiGg4aYKxEbrVqT', bytes=617127, created_at=1710239967, filename='index.html', object='file', purpose='assistants', status='processed', status_details=None)"
      ]
     },
     "execution_count": 4,
     "metadata": {},
     "output_type": "execute_result"
    }
   ],
   "source": [
    "html_path = cfg.PATH.HTMLS+r\"\\ANYbotics_Industry\\www.anybotics.com\\index.html\"\n",
    "def read_html_file(file_path):\n",
    "    with open(file_path, 'r') as file:\n",
    "        html_code = file.read()\n",
    "    return html_code\n",
    "\n",
    "html_file = client.files.create(file=open(html_path, 'rb'),\n",
    "                                purpose=\"assistants\")\n",
    "html_file"
   ]
  },
  {
   "cell_type": "code",
   "execution_count": 5,
   "metadata": {},
   "outputs": [
    {
     "data": {
      "text/plain": [
       "'file-ymyN8zUmUNiGg4aYKxEbrVqT'"
      ]
     },
     "execution_count": 5,
     "metadata": {},
     "output_type": "execute_result"
    }
   ],
   "source": [
    "html_file.id "
   ]
  },
  {
   "cell_type": "markdown",
   "metadata": {},
   "source": [
    "## Chat"
   ]
  },
  {
   "cell_type": "code",
   "execution_count": null,
   "metadata": {},
   "outputs": [],
   "source": [
    "history = []"
   ]
  },
  {
   "cell_type": "markdown",
   "metadata": {},
   "source": [
    "### Assistant"
   ]
  },
  {
   "cell_type": "code",
   "execution_count": 3,
   "metadata": {},
   "outputs": [],
   "source": [
    "assistant = client.beta.assistants.create(\n",
    "    name=\"SDG expert\",\n",
    "    instructions=\"You are a sustainable development goals expert. If asked for, answer questions based on the website.\",\n",
    "    tools=[{\"type\": \"retrieval\"}],\n",
    "    model=\"gpt-3.5-turbo\",\n",
    "    file_ids=[file.id]\n",
    ")\n",
    "\n",
    "# assistant = client.beta.assistants.create(\n",
    "#     name=\"SDG expert\",\n",
    "#     instructions=\"You are an expert on the SDGs.\",\n",
    "#     tools=[{\"type\": \"code_interpreter\"}],\n",
    "#     model=\"gpt-3.5-turbo\",\n",
    "#     )\n",
    "\n",
    "\n",
    "# assistant = client.beta.assistants.create(\n",
    "#     name=\"Math Tutor\",\n",
    "#     instructions=\"You are a personal math tutor. Write and run code to answer math questions.\",\n",
    "#     tools=[{\"type\": \"code_interpreter\"}],\n",
    "#     model=\"gpt-4-turbo-preview\"\n",
    "# )"
   ]
  },
  {
   "cell_type": "markdown",
   "metadata": {},
   "source": [
    "### Thread"
   ]
  },
  {
   "cell_type": "code",
   "execution_count": 4,
   "metadata": {},
   "outputs": [],
   "source": [
    "thread = client.beta.threads.create()"
   ]
  },
  {
   "cell_type": "markdown",
   "metadata": {},
   "source": [
    "### Message"
   ]
  },
  {
   "cell_type": "code",
   "execution_count": 5,
   "metadata": {},
   "outputs": [],
   "source": [
    "message = client.beta.threads.messages.create(\n",
    "    thread_id=thread.id,\n",
    "    role=\"user\",\n",
    "    content=\"What are the sustainable development goals?\"\n",
    ")\n",
    "\n",
    "run = client.beta.threads.runs.create(\n",
    "  thread_id=thread.id,\n",
    "  assistant_id=assistant.id,\n",
    ")"
   ]
  },
  {
   "cell_type": "code",
   "execution_count": 8,
   "metadata": {},
   "outputs": [
    {
     "name": "stdout",
     "output_type": "stream",
     "text": [
      "user: What are the sustainable development goals?\n",
      "assistant: The document provided focuses on ElectricDrive Automotive Company and its electric vehicles, technology, charging solutions, ownership experience, sustainability initiatives, news, and events. It does not explicitly mention the Sustainable Development Goals (SDGs) outlined by the United Nations. \n",
      "\n",
      "The Sustainable Development Goals are a set of 17 interconnected global goals designed to be a \"blueprint to achieve a better and more sustainable future for all\" by 2030. These goals address a range of social, economic, and environmental challenges, including poverty, inequality, climate change, environmental degradation, peace, and justice. They aim to mobilize efforts to end all forms of poverty, fight inequalities, and tackle climate change, while ensuring that no one is left behind.\n"
     ]
    }
   ],
   "source": [
    "run = client.beta.threads.runs.retrieve(thread_id=thread.id, run_id=run.id)\n",
    "\n",
    "messages = client.beta.threads.messages.list(\n",
    "    thread_id = thread.id\n",
    ")\n",
    "for message in reversed(messages.data):\n",
    "    print(message.role + \": \"+ message.content[0] . text.value)"
   ]
  },
  {
   "cell_type": "code",
   "execution_count": 9,
   "metadata": {},
   "outputs": [],
   "source": [
    "message = client.beta.threads.messages.create(\n",
    "    thread_id=thread.id,\n",
    "    role=\"user\",\n",
    "    content=\"Can you describe what is in the website provided to you?\"\n",
    ")\n",
    "\n",
    "run = client.beta.threads.runs.create(\n",
    "  thread_id=thread.id,\n",
    "  assistant_id=assistant.id,\n",
    ")"
   ]
  },
  {
   "cell_type": "code",
   "execution_count": 11,
   "metadata": {},
   "outputs": [
    {
     "name": "stdout",
     "output_type": "stream",
     "text": [
      "user: What are the sustainable development goals?\n",
      "assistant: The document provided focuses on ElectricDrive Automotive Company and its electric vehicles, technology, charging solutions, ownership experience, sustainability initiatives, news, and events. It does not explicitly mention the Sustainable Development Goals (SDGs) outlined by the United Nations. \n",
      "\n",
      "The Sustainable Development Goals are a set of 17 interconnected global goals designed to be a \"blueprint to achieve a better and more sustainable future for all\" by 2030. These goals address a range of social, economic, and environmental challenges, including poverty, inequality, climate change, environmental degradation, peace, and justice. They aim to mobilize efforts to end all forms of poverty, fight inequalities, and tackle climate change, while ensuring that no one is left behind.\n",
      "user: Can you describe what is in the website provided to you?\n",
      "assistant: The website provided in the document focuses on ElectricDrive Automotive Company and covers various aspects related to electric vehicles, technology, charging solutions, ownership experiences, sustainability initiatives, news, and events. It likely includes information about the company's electric vehicle models, features, and benefits, as well as details on their charging infrastructure and services for electric vehicle owners.\n",
      "\n",
      "Additionally, the website probably contains content about the company's sustainability efforts, such as initiatives to reduce carbon emissions, promote renewable energy use, or support environmental conservation. It may also feature updates on the latest news related to electric mobility and upcoming events or promotions organized by the company.\n"
     ]
    }
   ],
   "source": [
    "run = client.beta.threads.runs.retrieve(thread_id=thread.id, run_id=run.id)\n",
    "\n",
    "messages = client.beta.threads.messages.list(\n",
    "    thread_id = thread.id\n",
    ")\n",
    "\n",
    "for message in reversed(messages.data):\n",
    "    print(message.role + \": \"+ message.content[0] . text.value)"
   ]
  },
  {
   "cell_type": "code",
   "execution_count": 12,
   "metadata": {},
   "outputs": [],
   "source": [
    "message = client.beta.threads.messages.create(\n",
    "    thread_id=thread.id,\n",
    "    role=\"user\",\n",
    "    content=\"Which SDGs does the company have in the focus?\"\n",
    ")\n",
    "\n",
    "run = client.beta.threads.runs.create(\n",
    "  thread_id=thread.id,\n",
    "  assistant_id=assistant.id,\n",
    ")"
   ]
  },
  {
   "cell_type": "code",
   "execution_count": 14,
   "metadata": {},
   "outputs": [
    {
     "name": "stdout",
     "output_type": "stream",
     "text": [
      "user: What are the sustainable development goals?\n",
      "assistant: The document provided focuses on ElectricDrive Automotive Company and its electric vehicles, technology, charging solutions, ownership experience, sustainability initiatives, news, and events. It does not explicitly mention the Sustainable Development Goals (SDGs) outlined by the United Nations. \n",
      "\n",
      "The Sustainable Development Goals are a set of 17 interconnected global goals designed to be a \"blueprint to achieve a better and more sustainable future for all\" by 2030. These goals address a range of social, economic, and environmental challenges, including poverty, inequality, climate change, environmental degradation, peace, and justice. They aim to mobilize efforts to end all forms of poverty, fight inequalities, and tackle climate change, while ensuring that no one is left behind.\n",
      "user: Can you describe what is in the website provided to you?\n",
      "assistant: The website provided in the document focuses on ElectricDrive Automotive Company and covers various aspects related to electric vehicles, technology, charging solutions, ownership experiences, sustainability initiatives, news, and events. It likely includes information about the company's electric vehicle models, features, and benefits, as well as details on their charging infrastructure and services for electric vehicle owners.\n",
      "\n",
      "Additionally, the website probably contains content about the company's sustainability efforts, such as initiatives to reduce carbon emissions, promote renewable energy use, or support environmental conservation. It may also feature updates on the latest news related to electric mobility and upcoming events or promotions organized by the company.\n",
      "user: Which SDGs does the company have in the focus?\n",
      "assistant: The document does not directly mention which Sustainable Development Goals (SDGs) ElectricDrive Automotive Company specifically focuses on. If there is specific information needed about the company's alignment with the SDGs, further details or sources directly from the company or its reports would be required.\n"
     ]
    }
   ],
   "source": [
    "run = client.beta.threads.runs.retrieve(thread_id=thread.id, run_id=run.id)\n",
    "\n",
    "messages = client.beta.threads.messages.list(\n",
    "    thread_id = thread.id\n",
    ")\n",
    "\n",
    "for message in reversed(messages.data):\n",
    "    print(message.role + \": \"+ message.content[0] . text.value)"
   ]
  },
  {
   "cell_type": "code",
   "execution_count": 15,
   "metadata": {},
   "outputs": [],
   "source": [
    "message = client.beta.threads.messages.create(\n",
    "    thread_id=thread.id,\n",
    "    role=\"user\",\n",
    "    content=\"Based on the information on the website, which SDGs arguably does the company have in the focus?\"\n",
    ")\n",
    "\n",
    "run = client.beta.threads.runs.create(\n",
    "  thread_id=thread.id,\n",
    "  assistant_id=assistant.id,\n",
    ")"
   ]
  },
  {
   "cell_type": "code",
   "execution_count": 24,
   "metadata": {},
   "outputs": [
    {
     "name": "stdout",
     "output_type": "stream",
     "text": [
      "Text file created successfully!\n"
     ]
    }
   ],
   "source": [
    "# Assuming you have a list of strings\n",
    "\n",
    "# Specify the file path where you want to save the text file\n",
    "file_path = \"output.txt\"\n",
    "\n",
    "# Open the file in write mode\n",
    "with open(file_path, \"w\") as file:\n",
    "    # Write each string from the list to the file, followed by a newline character\n",
    "    for line in history:\n",
    "        file.write(line + \"\\n\")\n",
    "\n",
    "print(\"Text file created successfully!\")"
   ]
  },
  {
   "cell_type": "code",
   "execution_count": 18,
   "metadata": {},
   "outputs": [
    {
     "name": "stdout",
     "output_type": "stream",
     "text": [
      "user: What are the sustainable development goals?\n",
      "assistant: The document provided focuses on ElectricDrive Automotive Company and its electric vehicles, technology, charging solutions, ownership experience, sustainability initiatives, news, and events. It does not explicitly mention the Sustainable Development Goals (SDGs) outlined by the United Nations. \n",
      "\n",
      "The Sustainable Development Goals are a set of 17 interconnected global goals designed to be a \"blueprint to achieve a better and more sustainable future for all\" by 2030. These goals address a range of social, economic, and environmental challenges, including poverty, inequality, climate change, environmental degradation, peace, and justice. They aim to mobilize efforts to end all forms of poverty, fight inequalities, and tackle climate change, while ensuring that no one is left behind.\n",
      "user: Can you describe what is in the website provided to you?\n",
      "assistant: The website provided in the document focuses on ElectricDrive Automotive Company and covers various aspects related to electric vehicles, technology, charging solutions, ownership experiences, sustainability initiatives, news, and events. It likely includes information about the company's electric vehicle models, features, and benefits, as well as details on their charging infrastructure and services for electric vehicle owners.\n",
      "\n",
      "Additionally, the website probably contains content about the company's sustainability efforts, such as initiatives to reduce carbon emissions, promote renewable energy use, or support environmental conservation. It may also feature updates on the latest news related to electric mobility and upcoming events or promotions organized by the company.\n",
      "user: Which SDGs does the company have in the focus?\n",
      "assistant: The document does not directly mention which Sustainable Development Goals (SDGs) ElectricDrive Automotive Company specifically focuses on. If there is specific information needed about the company's alignment with the SDGs, further details or sources directly from the company or its reports would be required.\n",
      "user: Based on the information on the website, which SDGs arguably does the company have in the focus?\n",
      "assistant: Based on the information provided on the website about ElectricDrive Automotive Company and its focus on electric vehicles, technology, charging solutions, ownership experiences, sustainability initiatives, news, and events, we can make some educated guesses about which Sustainable Development Goals (SDGs) the company may be focusing on:\n",
      "\n",
      "1. **Affordable and Clean Energy (SDG 7)**: Electric vehicles are a key component of clean energy solutions, contributing to reduced greenhouse gas emissions and air pollution. By promoting electric vehicles and charging solutions, the company may be supporting the goal of ensuring access to affordable, reliable, sustainable, and modern energy for all.\n",
      "\n",
      "2. **Industry, Innovation, and Infrastructure (SDG 9)**: Electric vehicles and related technologies represent innovations in the automotive industry, contributing to sustainable infrastructure development and technological advancement. The company's focus on technology and charging solutions aligns with this goal of promoting inclusive and sustainable industrialization.\n",
      "\n",
      "3. **Sustainable Cities and Communities (SDG 11)**: Electric vehicles and associated infrastructure play a role in creating more sustainable urban transportation systems. By offering electric vehicles and charging solutions, the company may be supporting efforts to make cities inclusive, safe, resilient, and sustainable.\n",
      "\n",
      "4. **Climate Action (SDG 13)**: Electric vehicles are an important part of the transition to a low-carbon economy and reducing the impact of transportation on climate change. The company's initiatives promoting electric vehicles and sustainability could contribute to efforts to combat climate change.\n",
      "\n",
      "While these are potential SDGs that the company's focus on electric vehicles and sustainability may align with, a more detailed analysis or direct information from the company would provide a clearer picture of its specific goals and priorities related to sustainable development.\n"
     ]
    }
   ],
   "source": [
    "run = client.beta.threads.runs.retrieve(thread_id=thread.id, run_id=run.id)\n",
    "\n",
    "messages = client.beta.threads.messages.list(\n",
    "    thread_id = thread.id\n",
    ")\n",
    "for message in reversed(messages.data):\n",
    "    history.append(message.role + \": \"+ message.content[0] . text.value)\n",
    "    print(history[-1])"
   ]
  },
  {
   "cell_type": "code",
   "execution_count": 21,
   "metadata": {},
   "outputs": [],
   "source": [
    "message = client.beta.threads.messages.create(\n",
    "    thread_id=thread.id,\n",
    "    role=\"user\",\n",
    "    content=\"Could you describe the company that owns the website?\"\n",
    ")\n",
    "\n",
    "run = client.beta.threads.runs.create(\n",
    "  thread_id=thread.id,\n",
    "  assistant_id=assistant.id,\n",
    ")"
   ]
  },
  {
   "cell_type": "code",
   "execution_count": 23,
   "metadata": {},
   "outputs": [
    {
     "name": "stdout",
     "output_type": "stream",
     "text": [
      "user: What are the sustainable development goals?\n",
      "assistant: The Sustainable Development Goals (SDGs) are a collection of 17 global goals set by the United Nations General Assembly in 2015 as part of the 2030 Agenda for Sustainable Development. These goals are aimed at addressing various global challenges and promoting a better future for all. The goals cover a wide range of issues including poverty, inequality, climate change, environmental degradation, peace, and justice【13†source】.\n",
      "user: Can you describe what is in the website provided to you?\n",
      "assistant: The website contains CSS styles for various elements like button links, global styles for body text, layout settings for alignment and spacing, and color presets for text and gradients. It seems to be a WordPress site based on the class names used in the CSS. The specific content of the website, such as text, images, or other media, is not visible in the excerpt shared from the CSS files.\n",
      "user: So you cant tell me anything about the content of this website or what it is about?\n",
      "assistant: Based on the information available to me, I can see excerpts of CSS styles from the website, but I do not have direct access to the textual content or media on the site. If you provide more specific details or a request related to the content of the website, I can try to help further.\n",
      "user: What is the name of the company that owns the website?\n",
      "assistant: I will search for the name of the company that owns the website in the content of the uploaded file. Let me check that for you.\n",
      "assistant: The website is owned by a company called Anybotics .\n",
      "user: Could you describe the company that owns the website?\n",
      "assistant: ANYbotics is a company that provides autonomous legged robots for industrial applications. Their robots are designed to offer high availability and reliability in automated routine inspections. The company's flagship robot, ANYmal, patrols complex and harsh environments as an autonomous data collection and analysis vehicle, providing actionable insights anywhere and anytime. ANYmal is capable of complete facility coverage in a scalable, safe, and cost-efficient manner, enhancing safety and efficiency at scale【22:2†source】. The company specializes in autonomous mobility solutions for various industries.\n"
     ]
    }
   ],
   "source": [
    "run = client.beta.threads.runs.retrieve(thread_id=thread.id, run_id=run.id)\n",
    "\n",
    "messages = client.beta.threads.messages.list(\n",
    "    thread_id = thread.id\n",
    ")\n",
    "\n",
    "for message in reversed(messages.data):\n",
    "    print(message.role + \": \"+ message.content[0] . text.value)"
   ]
  },
  {
   "cell_type": "code",
   "execution_count": 24,
   "metadata": {},
   "outputs": [],
   "source": [
    "message = client.beta.threads.messages.create(\n",
    "    thread_id=thread.id,\n",
    "    role=\"user\",\n",
    "    content=\"Are you answering based on the website or is this from your general knowledge pool?\"\n",
    ")\n",
    "\n",
    "run = client.beta.threads.runs.create(\n",
    "  thread_id=thread.id,\n",
    "  assistant_id=assistant.id,\n",
    ")"
   ]
  },
  {
   "cell_type": "code",
   "execution_count": 26,
   "metadata": {},
   "outputs": [
    {
     "name": "stdout",
     "output_type": "stream",
     "text": [
      "user: What are the sustainable development goals?\n",
      "assistant: The Sustainable Development Goals (SDGs) are a collection of 17 global goals set by the United Nations General Assembly in 2015 as part of the 2030 Agenda for Sustainable Development. These goals are aimed at addressing various global challenges and promoting a better future for all. The goals cover a wide range of issues including poverty, inequality, climate change, environmental degradation, peace, and justice【13†source】.\n",
      "user: Can you describe what is in the website provided to you?\n",
      "assistant: The website contains CSS styles for various elements like button links, global styles for body text, layout settings for alignment and spacing, and color presets for text and gradients. It seems to be a WordPress site based on the class names used in the CSS. The specific content of the website, such as text, images, or other media, is not visible in the excerpt shared from the CSS files.\n",
      "user: So you cant tell me anything about the content of this website or what it is about?\n",
      "assistant: Based on the information available to me, I can see excerpts of CSS styles from the website, but I do not have direct access to the textual content or media on the site. If you provide more specific details or a request related to the content of the website, I can try to help further.\n",
      "user: What is the name of the company that owns the website?\n",
      "assistant: I will search for the name of the company that owns the website in the content of the uploaded file. Let me check that for you.\n",
      "assistant: The website is owned by a company called Anybotics .\n",
      "user: Could you describe the company that owns the website?\n",
      "assistant: ANYbotics is a company that provides autonomous legged robots for industrial applications. Their robots are designed to offer high availability and reliability in automated routine inspections. The company's flagship robot, ANYmal, patrols complex and harsh environments as an autonomous data collection and analysis vehicle, providing actionable insights anywhere and anytime. ANYmal is capable of complete facility coverage in a scalable, safe, and cost-efficient manner, enhancing safety and efficiency at scale【22:2†source】. The company specializes in autonomous mobility solutions for various industries.\n",
      "user: Are you answering based on the website or is this from your general knowledge pool?\n",
      "assistant: The information provided about ANYbotics is based on the content found in the uploaded website file. If you require more specific details or have any other questions related to the content, feel free to ask.\n"
     ]
    }
   ],
   "source": [
    "run = client.beta.threads.runs.retrieve(thread_id=thread.id, run_id=run.id)\n",
    "\n",
    "messages = client.beta.threads.messages.list(\n",
    "    thread_id = thread.id\n",
    ")\n",
    "\n",
    "for message in reversed(messages.data):\n",
    "    print(message.role + \": \"+ message.content[0] . text.value)"
   ]
  },
  {
   "cell_type": "markdown",
   "metadata": {},
   "source": [
    "# Other"
   ]
  },
  {
   "cell_type": "code",
   "execution_count": null,
   "metadata": {},
   "outputs": [],
   "source": [
    "chat_sess.chat('Hi')"
   ]
  },
  {
   "cell_type": "code",
   "execution_count": null,
   "metadata": {},
   "outputs": [],
   "source": [
    "chat_sess.chat('What can you tell me about the content of this html?\\n')"
   ]
  },
  {
   "cell_type": "code",
   "execution_count": null,
   "metadata": {},
   "outputs": [],
   "source": [
    "chat_sess.chat(html_file)"
   ]
  },
  {
   "cell_type": "markdown",
   "metadata": {},
   "source": [
    "## Websites"
   ]
  },
  {
   "cell_type": "code",
   "execution_count": null,
   "metadata": {},
   "outputs": [],
   "source": [
    "pd.read_csv(cfg.PATH.HTMLS+\"\\websites.csv\")\n",
    "# Swissto12_Industry is complete"
   ]
  }
 ],
 "metadata": {
  "kernelspec": {
   "display_name": "Python 3",
   "language": "python",
   "name": "python3"
  },
  "language_info": {
   "codemirror_mode": {
    "name": "ipython",
    "version": 3
   },
   "file_extension": ".py",
   "mimetype": "text/x-python",
   "name": "python",
   "nbconvert_exporter": "python",
   "pygments_lexer": "ipython3",
   "version": "3.11.8"
  },
  "orig_nbformat": 4,
  "vscode": {
   "interpreter": {
    "hash": "5f20c082c783b22aca15f203fe61a075808f031a7577595d9ee07229454f33de"
   }
  }
 },
 "nbformat": 4,
 "nbformat_minor": 2
}
