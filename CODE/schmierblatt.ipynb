{
 "cells": [
  {
   "cell_type": "markdown",
   "metadata": {},
   "source": [
    "# Test"
   ]
  },
  {
   "cell_type": "markdown",
   "metadata": {},
   "source": [
    "## Import"
   ]
  },
  {
   "cell_type": "code",
   "execution_count": null,
   "metadata": {},
   "outputs": [],
   "source": [
    "import numpy as np\n",
    "import pandas as pd\n",
    "import sys,os\n",
    "sys.path.append('../')\n",
    "# from utils.misc import *\n",
    "\n",
    "# from preprocess import *\n",
    "# from utils.dataset import DatasetManager\n",
    "# from train import *\n",
    "\n",
    "# from pqdm.processes import pqdm\n",
    "from tqdm import tqdm\n",
    "# from matplotlib import pyplot as plt\n",
    "\n",
    "from configs.misc_config import cfg\n",
    "# from models.Linear import OLS\n",
    "\n",
    "# import torch\n",
    "# from torchsummary import summary\n",
    "\n",
    "from utils.chatutils import ChatSession,openai\n",
    "\n",
    "chat_sess = ChatSession()\n",
    "chat_sess\n",
    "\n",
    "print(\"Put your API key\")\n",
    "openai.api_key = \"\"\n",
    "print(\"ok.\")"
   ]
  },
  {
   "cell_type": "markdown",
   "metadata": {},
   "source": [
    "## Get HTML"
   ]
  },
  {
   "cell_type": "code",
   "execution_count": null,
   "metadata": {},
   "outputs": [],
   "source": [
    "html_path = cfg.PATH.HTMLS+r\"\\ANYbotics_Industry\\www.anybotics.com\\index.html\"\n",
    "def read_html_file(file_path):\n",
    "    with open(file_path, 'r') as file:\n",
    "        html_code = file.read()\n",
    "    return html_code\n",
    "\n",
    "html_file = read_html_file(html_path)\n",
    "html_file"
   ]
  },
  {
   "cell_type": "markdown",
   "metadata": {},
   "source": [
    "## Chat"
   ]
  },
  {
   "cell_type": "code",
   "execution_count": null,
   "metadata": {},
   "outputs": [],
   "source": [
    "chat_sess.chat('Hi')"
   ]
  },
  {
   "cell_type": "code",
   "execution_count": null,
   "metadata": {},
   "outputs": [],
   "source": [
    "chat_sess.chat('What can you tell me about the content of this html?\\n')"
   ]
  },
  {
   "cell_type": "code",
   "execution_count": null,
   "metadata": {},
   "outputs": [],
   "source": [
    "chat_sess.chat(html_file)"
   ]
  },
  {
   "cell_type": "markdown",
   "metadata": {},
   "source": [
    "## Websites"
   ]
  },
  {
   "cell_type": "code",
   "execution_count": null,
   "metadata": {},
   "outputs": [],
   "source": [
    "pd.read_csv(cfg.PATH.HTMLS+\"\\websites.csv\")\n",
    "# Swissto12_Industry is complete"
   ]
  }
 ],
 "metadata": {
  "kernelspec": {
   "display_name": "Python 3",
   "language": "python",
   "name": "python3"
  },
  "language_info": {
   "codemirror_mode": {
    "name": "ipython",
    "version": 3
   },
   "file_extension": ".py",
   "mimetype": "text/x-python",
   "name": "python",
   "nbconvert_exporter": "python",
   "pygments_lexer": "ipython3",
   "version": "3.10.13"
  },
  "orig_nbformat": 4,
  "vscode": {
   "interpreter": {
    "hash": "5f20c082c783b22aca15f203fe61a075808f031a7577595d9ee07229454f33de"
   }
  }
 },
 "nbformat": 4,
 "nbformat_minor": 2
}
