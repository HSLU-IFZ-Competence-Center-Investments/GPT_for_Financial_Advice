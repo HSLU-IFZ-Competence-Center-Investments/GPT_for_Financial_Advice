{
 "cells": [
  {
   "cell_type": "code",
   "execution_count": null,
   "metadata": {},
   "outputs": [],
   "source": [
    "import openai,re\n",
    "from utils import ChatSession,update_investor_profile\n",
    "import pandas as pd\n",
    "\n",
    "# load and set our key\n",
    "openai.api_key = open(\"key.txt\", \"r\").read().strip(\"\\n\")\n",
    "\n",
    "# questions:\n",
    "#         'Is the Customer older than 50? Say yes or no.',\\\n",
    "#         'Does the Customer earn less than 100K annually? Say yes or no.',\\\n",
    "#         'Does the Customer have a high risk appetite? Say yes or no.'\n",
    "\n",
    "RuleBasedPortfolios = pd.read_excel('RuleBasedPortfolios.xlsx')\n",
    "RuleBasedPortfolios.columns = RuleBasedPortfolios.columns.map(lambda x: x.lower())\n",
    "\n",
    "RuleBasedPortfolios.age = RuleBasedPortfolios.age.apply(lambda x: 'yes' if x == '50 -' else 'no') # use .strip()\n",
    "RuleBasedPortfolios.income = RuleBasedPortfolios.income.apply(lambda x: 'yes' if x == '0 - 100' else 'no') # use .strip()\n",
    "RuleBasedPortfolios['risk appetite'] = RuleBasedPortfolios['risk appetite'].apply(lambda x: 'yes' if x == 'High' else 'no') # use .strip()"
   ]
  },
  {
   "attachments": {},
   "cell_type": "markdown",
   "metadata": {},
   "source": [
    "# GPT/GPT"
   ]
  },
  {
   "cell_type": "code",
   "execution_count": null,
   "metadata": {},
   "outputs": [],
   "source": [
    "session1 = ChatSession(gpt_name='Advisor')\n",
    "session2 = ChatSession(gpt_name='Customer')\n",
    "\n",
    "beginning_sentence = \"Hi. I am not sure about how to invest. Could you help me?\"\n",
    "# beginning_sentence = \"Hi. I am curious about today's investment chances. Could you help me?\"\n",
    "\n",
    "session2.inject(line=\"You are a customer at a bank, seeking financial advise from me. You will ask general questions about current financial situation in the world and Switzerland. You are 50 years old with an income of 120K. Your risk appetite is low. Do not give these information unless you are asked for. Say ok if you understand.\",role=\"user\")\n",
    "session2.inject(line=\"Ok.\",role= \"assistant\")\n",
    "session2.inject(line=beginning_sentence,role= \"assistant\")\n",
    "\n",
    "print('Customer: ' + beginning_sentence)\n",
    "\n",
    "session1.inject(line=\"You are a financial advisor at a bank. You should ask about customers' age, income and risk apetite later in the conversation before suggesting a portfolio. Be subtle about asking for these information and do not ask at the very beginning of the conversation. Always prioritize answering the customers' questions over asking for these information. I am a customer seeking financial advise from you. Say ok if you understand.\",role=\"user\")\n",
    "session1.inject(line=\"Ok.\",role= \"assistant\")\n",
    "\n",
    "investor_profile = {i:False for i in ['age','income','risk appetite']}\n",
    "while True:\n",
    "    session1.chat(user_input=session2.messages[-1],temperature=0.01)\n",
    "    session2.chat(user_input=session1.messages[-1])\n",
    "    update_investor_profile(investor_profile=investor_profile,dialogue=f'{session1.gpt_name}: {session1.messages[-1].content}'+'\\n'+f'{session2.gpt_name}: {session2.messages[-1].content}')\n",
    "\n",
    "    \n",
    "    if not len([i for i in investor_profile.values() if not i]):\n",
    "        assert sum(map(lambda x: 'no' in x.lower() or 'yes' in x.lower(),investor_profile.values())) == len(investor_profile.keys()), investor_profile\n",
    "        break\n",
    "\n",
    "# Rule based portfolio by using ``investor_profile``\n",
    "portfolio = RuleBasedPortfolios.where(lambda x: x['age'].apply(lambda y: y in investor_profile['age'].lower())*\\\n",
    "                            x['income'].apply(lambda y: y in investor_profile['income'].lower())*\\\n",
    "                                x['risk appetite'].apply(lambda y: y in investor_profile['risk appetite'].lower()))['portfolio'].dropna().values\n",
    "assert portfolio.size == 1\n",
    "portfolio = int(portfolio.item())\n",
    "\n",
    "# Tell GPT to recommend portfolio\n",
    "session1.inject(line=f\"Then, I would recommend portfolio {portfolio}.\",role= \"assistant\")\n",
    "session1(1)\n"
   ]
  },
  {
   "attachments": {},
   "cell_type": "markdown",
   "metadata": {},
   "source": [
    "# GPT/Human"
   ]
  },
  {
   "cell_type": "code",
   "execution_count": null,
   "metadata": {},
   "outputs": [],
   "source": [
    "session1 = ChatSession(gpt_name='Advisor')\n",
    "\n",
    "user_input = input(\"> \")\n",
    "print('Customer: ', user_input)\n",
    "\n",
    "session1.inject(line=\"You are a financial advisor at a bank. You should ask about customers' age, income and risk apetite later in the conversation before suggesting a portfolio. Be subtle about asking for these information and do not ask at the very beginning of the conversation. Always prioritize answering the customers' questions over asking for these information. I am a customer seeking financial advise from you. Say ok if you understand.\",role=\"user\")\n",
    "session1.inject(line=\"Ok.\",role= \"assistant\")\n",
    "\n",
    "investor_profile = {i:False for i in ['age','income','risk appetite']}\n",
    "pattern = re.compile(r'\\w+')\n",
    "while True:\n",
    "    session1.chat(user_input=user_input,verbose=False)\n",
    "    print('Advisor: ', session1.messages[-1].content)\n",
    "    user_input = input(\"> \")\n",
    "    print('Customer: ', user_input)\n",
    "    if re.search(pattern,user_input.strip()) is not None:\n",
    "        update_investor_profile(investor_profile=investor_profile,dialogue=f'{session1.gpt_name}: {session1.messages[-1].content}'+'\\n'+f'Customer: {user_input}')\n",
    "    if not len([i for i in investor_profile.values() if not i]):\n",
    "        break\n",
    "\n",
    "# Rule based portfolio by using ``investor_profile``\n",
    "portfolio = RuleBasedPortfolios.where(lambda x: x['age'].apply(lambda y: y in investor_profile['age'].lower())*\\\n",
    "                            x['income'].apply(lambda y: y in investor_profile['income'].lower())*\\\n",
    "                                x['risk appetite'].apply(lambda y: y in investor_profile['risk appetite'].lower()))['portfolio'].dropna().values\n",
    "assert portfolio.size == 1\n",
    "portfolio = int(portfolio.item())\n",
    "\n",
    "# Tell GPT to recommend portfolio\n",
    "session1.inject(line=f\"Then, I would recommend portfolio {portfolio}.\",role= \"assistant\")\n",
    "session1(1)"
   ]
  }
 ],
 "metadata": {
  "kernelspec": {
   "display_name": "MLinFin",
   "language": "python",
   "name": "python3"
  },
  "language_info": {
   "codemirror_mode": {
    "name": "ipython",
    "version": 3
   },
   "file_extension": ".py",
   "mimetype": "text/x-python",
   "name": "python",
   "nbconvert_exporter": "python",
   "pygments_lexer": "ipython3",
   "version": "3.10.10"
  },
  "orig_nbformat": 4
 },
 "nbformat": 4,
 "nbformat_minor": 2
}
