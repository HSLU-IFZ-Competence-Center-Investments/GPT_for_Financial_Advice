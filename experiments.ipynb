{
 "cells": [
  {
   "cell_type": "code",
   "execution_count": 1,
   "metadata": {},
   "outputs": [],
   "source": [
    "import openai,re\n",
    "from utils import ChatSession,update_investor_profile\n",
    "import pandas as pd\n",
    "\n",
    "# load and set our key\n",
    "openai.api_key = open(\"key.txt\", \"r\").read().strip(\"\\n\")\n",
    "\n",
    "# questions:\n",
    "#         'Is the Customer older than 50? Say yes or no.',\\\n",
    "#         'Does the Customer earn less than 100K annually? Say yes or no.',\\\n",
    "#         'Does the Customer have a high risk appetite? Say yes or no.'\n",
    "\n",
    "RuleBasedPortfolios = pd.read_excel('RuleBasedPortfolios.xlsx')\n",
    "RuleBasedPortfolios.columns = RuleBasedPortfolios.columns.map(lambda x: x.lower())\n",
    "\n",
    "RuleBasedPortfolios.age = RuleBasedPortfolios.age.apply(lambda x: 'yes' if x == '50 -' else 'no') # use .strip()\n",
    "RuleBasedPortfolios.income = RuleBasedPortfolios.income.apply(lambda x: 'yes' if x == '0 - 100' else 'no') # use .strip()\n",
    "RuleBasedPortfolios['risk appetite'] = RuleBasedPortfolios['risk appetite'].apply(lambda x: 'yes' if x == 'High' else 'no') # use .strip()"
   ]
  },
  {
   "attachments": {},
   "cell_type": "markdown",
   "metadata": {},
   "source": [
    "# GPT/GPT"
   ]
  },
  {
   "cell_type": "code",
   "execution_count": 4,
   "metadata": {},
   "outputs": [
    {
     "name": "stdout",
     "output_type": "stream",
     "text": [
      "Customer: Hi. I am not sure about how to invest. Could you help me?\n",
      "Advisor: Of course, I'd be happy to help. Before we get started, can you tell me a little bit about your financial goals? Are you looking to save for retirement, a down payment on a house, or something else?\n",
      "\n",
      "Customer: I am looking to save for my retirement primarily. I want to make sure my money is safe and I earn enough returns.\n",
      "\n",
      "Advisor: Great, that's a good goal to have. Before we discuss any investment options, I would like to know a little bit more about your financial situation. Would you mind sharing your age and income with me? This will help me suggest investment options that are suitable for you.\n",
      "\n",
      "Customer: I am 50 years old with an income of 120K.\n",
      "\n",
      "Advisor: Thank you for sharing that information with me. One more thing I would like to know is your risk appetite. Are you comfortable with taking on more risk for potentially higher returns, or would you prefer a more conservative approach with lower risk and lower returns?\n",
      "\n",
      "Customer: My risk appetite is low.\n",
      "\n",
      "Advisor: Understood. Based on your age, income, and risk appetite, I would recommend a portfolio that includes a mix of stocks and bonds. This will help you earn returns while also minimizing risk. Would you like me to provide more details on this portfolio?\n",
      "\n",
      "Customer: Yes, please. Could you also explain to me about the current financial situation in Switzerland and the world?\n",
      "\n",
      "Advisor: Certainly. Currently, the global economy is facing some uncertainty due to the ongoing COVID-19 pandemic. However, Switzerland has been able to weather the storm relatively well, thanks to its strong economy and stable political environment. In terms of investment options, there are a variety of options available, including stocks, bonds, mutual funds, and exchange-traded funds (ETFs). Each of these options has its own benefits and risks, so it's important to choose the right mix of investments based on your financial goals and risk appetite.\n",
      "\n",
      "Customer: As for a portfolio recommendation, I would suggest a mix of 60% bonds and 40% stocks. The allocation to bonds will help reduce the overall portfolio risk, while the allocation to stocks will help to generate returns. We can also focus on low-risk, high-quality stocks that will provide good returns without too much volatility. As for bonds, we can look at high-rated bonds that have a lower risk of default. I will be happy to provide more specific investment recommendations based on your financial situation and goals.\n",
      "\n",
      "Advisor: Does that sound good to you?\n",
      "\n",
      "Customer: Yes, it does. Thank you for your help and explanations.\n",
      "\n",
      "Advisor: You're welcome. It was my pleasure to assist you. If you have any further questions or concerns, please don't hesitate to reach out to me.\n",
      "\n",
      "Customer: Sure, thank you. Have a good day!\n",
      "\n",
      "Advisor: You too!\n",
      "\n",
      "Customer: Goodbye!\n",
      "\n",
      "Advisor: Goodbye!\n",
      "\n",
      "Customer: It was nice speaking with you.\n",
      "\n"
     ]
    },
    {
     "ename": "AssertionError",
     "evalue": "undefined. a message needs to be provided to determine its sentiment.",
     "output_type": "error",
     "traceback": [
      "\u001b[1;31m---------------------------------------------------------------------------\u001b[0m",
      "\u001b[1;31mAssertionError\u001b[0m                            Traceback (most recent call last)",
      "Cell \u001b[1;32mIn[4], line 20\u001b[0m\n\u001b[0;32m     18\u001b[0m session1\u001b[39m.\u001b[39mchat(user_input\u001b[39m=\u001b[39msession2\u001b[39m.\u001b[39mmessages[\u001b[39m-\u001b[39m\u001b[39m1\u001b[39m],temperature\u001b[39m=\u001b[39m\u001b[39m0.01\u001b[39m)\n\u001b[0;32m     19\u001b[0m session2\u001b[39m.\u001b[39mchat(user_input\u001b[39m=\u001b[39msession1\u001b[39m.\u001b[39mmessages[\u001b[39m-\u001b[39m\u001b[39m1\u001b[39m])\n\u001b[1;32m---> 20\u001b[0m update_investor_profile(investor_profile\u001b[39m=\u001b[39;49minvestor_profile,dialogue\u001b[39m=\u001b[39;49m\u001b[39mf\u001b[39;49m\u001b[39m'\u001b[39;49m\u001b[39m{\u001b[39;49;00msession1\u001b[39m.\u001b[39;49mgpt_name\u001b[39m}\u001b[39;49;00m\u001b[39m: \u001b[39;49m\u001b[39m{\u001b[39;49;00msession1\u001b[39m.\u001b[39;49mmessages[\u001b[39m-\u001b[39;49m\u001b[39m1\u001b[39;49m]\u001b[39m.\u001b[39;49mcontent\u001b[39m}\u001b[39;49;00m\u001b[39m'\u001b[39;49m\u001b[39m+\u001b[39;49m\u001b[39m'\u001b[39;49m\u001b[39m\\n\u001b[39;49;00m\u001b[39m'\u001b[39;49m\u001b[39m+\u001b[39;49m\u001b[39mf\u001b[39;49m\u001b[39m'\u001b[39;49m\u001b[39m{\u001b[39;49;00msession2\u001b[39m.\u001b[39;49mgpt_name\u001b[39m}\u001b[39;49;00m\u001b[39m: \u001b[39;49m\u001b[39m{\u001b[39;49;00msession2\u001b[39m.\u001b[39;49mmessages[\u001b[39m-\u001b[39;49m\u001b[39m1\u001b[39;49m]\u001b[39m.\u001b[39;49mcontent\u001b[39m}\u001b[39;49;00m\u001b[39m'\u001b[39;49m)\n\u001b[0;32m     23\u001b[0m \u001b[39mif\u001b[39;00m \u001b[39mnot\u001b[39;00m \u001b[39mlen\u001b[39m([i \u001b[39mfor\u001b[39;00m i \u001b[39min\u001b[39;00m investor_profile\u001b[39m.\u001b[39mvalues() \u001b[39mif\u001b[39;00m \u001b[39mnot\u001b[39;00m i]):\n\u001b[0;32m     24\u001b[0m     \u001b[39massert\u001b[39;00m \u001b[39msum\u001b[39m(\u001b[39mmap\u001b[39m(\u001b[39mlambda\u001b[39;00m x: \u001b[39m'\u001b[39m\u001b[39mno\u001b[39m\u001b[39m'\u001b[39m \u001b[39min\u001b[39;00m x\u001b[39m.\u001b[39mlower() \u001b[39mor\u001b[39;00m \u001b[39m'\u001b[39m\u001b[39myes\u001b[39m\u001b[39m'\u001b[39m \u001b[39min\u001b[39;00m x\u001b[39m.\u001b[39mlower(),investor_profile\u001b[39m.\u001b[39mvalues())) \u001b[39m==\u001b[39m \u001b[39mlen\u001b[39m(investor_profile\u001b[39m.\u001b[39mkeys()), investor_profile\n",
      "File \u001b[1;32mc:\\Users\\levin\\Documents\\IFZ\\GitHub\\GPT_for_financial_Advice\\GPT_for_Financial_Advice\\utils.py:173\u001b[0m, in \u001b[0;36mupdate_investor_profile\u001b[1;34m(investor_profile, dialogue)\u001b[0m\n\u001b[0;32m    170\u001b[0m session2\u001b[39m.\u001b[39mchat(\u001b[39mf\u001b[39m\u001b[39m\"\u001b[39m\u001b[39mDecide whether a following message\u001b[39m\u001b[39m'\u001b[39m\u001b[39ms sentiment is positive, or negative. \u001b[39m\u001b[39m{\u001b[39;00msentiment\u001b[39m}\u001b[39;00m\u001b[39m. Sentiment:\u001b[39m\u001b[39m\"\u001b[39m,verbose\u001b[39m=\u001b[39m\u001b[39mFalse\u001b[39;00m)\n\u001b[0;32m    171\u001b[0m sentiment \u001b[39m=\u001b[39m session2\u001b[39m.\u001b[39mmessages[\u001b[39m-\u001b[39m\u001b[39m1\u001b[39m][\u001b[39m'\u001b[39m\u001b[39mcontent\u001b[39m\u001b[39m'\u001b[39m]\u001b[39m.\u001b[39mlower()\u001b[39m.\u001b[39mstrip()\n\u001b[1;32m--> 173\u001b[0m \u001b[39massert\u001b[39;00m \u001b[39m'\u001b[39m\u001b[39mnegative\u001b[39m\u001b[39m'\u001b[39m \u001b[39min\u001b[39;00m sentiment \u001b[39mor\u001b[39;00m \u001b[39m'\u001b[39m\u001b[39mpositive\u001b[39m\u001b[39m'\u001b[39m \u001b[39min\u001b[39;00m sentiment \u001b[39mor\u001b[39;00m \u001b[39m'\u001b[39m\u001b[39mneutral\u001b[39m\u001b[39m'\u001b[39m \u001b[39min\u001b[39;00m sentiment, sentiment\n\u001b[0;32m    175\u001b[0m session1\u001b[39m.\u001b[39mclear()\n\u001b[0;32m    176\u001b[0m session2\u001b[39m.\u001b[39mclear()\n",
      "\u001b[1;31mAssertionError\u001b[0m: undefined. a message needs to be provided to determine its sentiment."
     ]
    }
   ],
   "source": [
    "session1 = ChatSession(gpt_name='Advisor')\n",
    "session2 = ChatSession(gpt_name='Customer')\n",
    "\n",
    "beginning_sentence = \"Hi. I am not sure about how to invest. Could you help me?\"\n",
    "# beginning_sentence = \"Hi. I am curious about today's investment chances. Could you help me?\"\n",
    "\n",
    "session2.inject(line=\"You are a customer at a bank, seeking financial advise from me. You will ask general questions about current financial situation in the world and Switzerland. You are 50 years old with an income of 120K. Your risk appetite is low. Do not give these information unless you are asked for. Say ok if you understand.\",role=\"user\")\n",
    "session2.inject(line=\"Ok.\",role= \"assistant\")\n",
    "session2.inject(line=beginning_sentence,role= \"assistant\")\n",
    "\n",
    "print('Customer: ' + beginning_sentence)\n",
    "\n",
    "session1.inject(line=\"You are a financial advisor at a bank. You should ask about customers' age, income and risk apetite later in the conversation before suggesting a portfolio. Be subtle about asking for these information and do not ask at the very beginning of the conversation. Always prioritize answering the customers' questions over asking for these information. I am a customer seeking financial advise from you. Say ok if you understand.\",role=\"user\")\n",
    "session1.inject(line=\"Ok.\",role= \"assistant\")\n",
    "\n",
    "investor_profile = {i:False for i in ['age','income','risk appetite']}\n",
    "while True:\n",
    "    session1.chat(user_input=session2.messages[-1],temperature=0.01)\n",
    "    session2.chat(user_input=session1.messages[-1])\n",
    "    update_investor_profile(investor_profile=investor_profile,dialogue=f'{session1.gpt_name}: {session1.messages[-1].content}'+'\\n'+f'{session2.gpt_name}: {session2.messages[-1].content}')\n",
    "\n",
    "    \n",
    "    if not len([i for i in investor_profile.values() if not i]):\n",
    "        assert sum(map(lambda x: 'no' in x.lower() or 'yes' in x.lower(),investor_profile.values())) == len(investor_profile.keys()), investor_profile\n",
    "        break\n",
    "\n",
    "# Rule based portfolio by using ``investor_profile``\n",
    "portfolio = RuleBasedPortfolios.where(lambda x: x['age'].apply(lambda y: y in investor_profile['age'].lower())*\\\n",
    "                            x['income'].apply(lambda y: y in investor_profile['income'].lower())*\\\n",
    "                                x['risk appetite'].apply(lambda y: y in investor_profile['risk appetite'].lower()))['portfolio'].dropna().values\n",
    "assert portfolio.size == 1\n",
    "portfolio = int(portfolio.item())\n",
    "\n",
    "# Tell GPT to recommend portfolio\n",
    "session1.inject(line=f\"Then, I would recommend portfolio {portfolio}.\",role= \"assistant\")\n",
    "session1(1)\n"
   ]
  },
  {
   "attachments": {},
   "cell_type": "markdown",
   "metadata": {},
   "source": [
    "# GPT/Human"
   ]
  },
  {
   "cell_type": "code",
   "execution_count": null,
   "metadata": {},
   "outputs": [],
   "source": [
    "session1 = ChatSession(gpt_name='Advisor')\n",
    "\n",
    "user_input = input(\"> \")\n",
    "print('Customer: ', user_input)\n",
    "\n",
    "session1.inject(line=\"You are a financial advisor at a bank. You should ask about customers' age, income and risk apetite later in the conversation before suggesting a portfolio. Be subtle about asking for these information and do not ask at the very beginning of the conversation. Always prioritize answering the customers' questions over asking for these information. I am a customer seeking financial advise from you. Say ok if you understand.\",role=\"user\")\n",
    "session1.inject(line=\"Ok.\",role= \"assistant\")\n",
    "\n",
    "investor_profile = {i:False for i in ['age','income','risk appetite']}\n",
    "pattern = re.compile(r'\\w+')\n",
    "while True:\n",
    "    session1.chat(user_input=user_input,verbose=False)\n",
    "    print('Advisor: ', session1.messages[-1].content)\n",
    "    user_input = input(\"> \")\n",
    "    print('Customer: ', user_input)\n",
    "    if re.search(pattern,user_input.strip()) is not None:\n",
    "        update_investor_profile(investor_profile=investor_profile,dialogue=f'{session1.gpt_name}: {session1.messages[-1].content}'+'\\n'+f'Customer: {user_input}')\n",
    "    if not len([i for i in investor_profile.values() if not i]):\n",
    "        break\n",
    "\n",
    "# Rule based portfolio by using ``investor_profile``\n",
    "portfolio = RuleBasedPortfolios.where(lambda x: x['age'].apply(lambda y: y in investor_profile['age'].lower())*\\\n",
    "                            x['income'].apply(lambda y: y in investor_profile['income'].lower())*\\\n",
    "                                x['risk appetite'].apply(lambda y: y in investor_profile['risk appetite'].lower()))['portfolio'].dropna().values\n",
    "assert portfolio.size == 1\n",
    "portfolio = int(portfolio.item())\n",
    "\n",
    "# Tell GPT to recommend portfolio\n",
    "session1.inject(line=f\"Then, I would recommend portfolio {portfolio}.\",role= \"assistant\")\n",
    "session1(1)"
   ]
  }
 ],
 "metadata": {
  "kernelspec": {
   "display_name": "MLinFin",
   "language": "python",
   "name": "python3"
  },
  "language_info": {
   "codemirror_mode": {
    "name": "ipython",
    "version": 3
   },
   "file_extension": ".py",
   "mimetype": "text/x-python",
   "name": "python",
   "nbconvert_exporter": "python",
   "pygments_lexer": "ipython3",
   "version": "3.10.0"
  },
  "orig_nbformat": 4
 },
 "nbformat": 4,
 "nbformat_minor": 2
}
