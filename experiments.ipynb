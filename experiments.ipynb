{
 "cells": [
  {
   "cell_type": "code",
   "execution_count": 1,
   "metadata": {},
   "outputs": [],
   "source": [
    "import openai\n",
    "from utils import ChatSession\n",
    "\n",
    "# load and set our key\n",
    "openai.api_key = open(\"key.txt\", \"r\").read().strip(\"\\n\")\n",
    "\n",
    "session1 = ChatSession(gpt_name='GPT1')\n",
    "session2 = ChatSession(gpt_name='GPT2')"
   ]
  },
  {
   "attachments": {},
   "cell_type": "markdown",
   "metadata": {},
   "source": [
    "# GPT vs GPT"
   ]
  },
  {
   "cell_type": "code",
   "execution_count": 2,
   "metadata": {},
   "outputs": [
    {
     "name": "stdout",
     "output_type": "stream",
     "text": [
      "GPT1: Of course, I'd be happy to help you with that. Let's start by discussing your investment goals and risk tolerance. Do you have any specific goals in mind, such as saving for retirement or a down payment on a home? And how comfortable are you with taking investment risks?\n",
      "\n",
      "GPT2: My goal is to save enough for my retirement and I am tolerant to moderate investment risks.\n",
      "\n",
      "GPT1: Great. Based on your goals and risk tolerance, we can explore a variety of investment options that can help you potentially grow your retirement funds. Have you considered opening an individual retirement account (IRA) or a 401(k)? These can be good options if you're looking to save for retirement. We can also discuss mutual funds, stocks and bonds that may match your investing preferences. Do you have any experience with these investment vehicles?\n",
      "\n",
      "GPT2: I have some experience with mutual funds and stocks. But, I am not much familiar with bonds. Could you explain more about bonds?\n",
      "\n",
      "GPT1: Certainly. A bond is essentially a loan that you offer to a company or a government. When you buy a bond, you are lending money to the entity issuing the bond, who will then pay you back the principal amount plus interest over a period of time. Bonds are generally considered to be low-risk investments, as they are typically backed by the issuer's ability to generate revenue or through a government guarantee. However, the trade-off is that their returns are usually lower than higher-risk investments such as stocks. \n",
      "\n",
      "There are different types of bonds you can invest in. Corporate bonds are issued by companies and usually offer higher returns compared to government bonds, but carry more risks. Municipal bonds are issued by state or local government entities and the interest earned on these bonds is often tax-free at the federal level. Treasury bonds are issued by the U.S. government and are considered to be the safest type of bond, but offer lower returns. \n",
      "\n",
      "If you're interested in investing in bonds, we can discuss which type of bond may best suit your investment goals and risk tolerance.\n",
      "\n",
      "GPT2: Thank you for explaining bonds in a simple way. I am definitely interested in exploring bonds further. What should be the next steps if I want to buy bonds?\n",
      "\n",
      "GPT1: The process of buying bonds depends on the type of bond you want to invest in. If you're interested in investing in corporate bonds, you could consider purchasing them through a brokerage account or a bond mutual fund. For government-issued bonds, you can buy them directly through the TreasuryDirect platform, or you can buy them through a broker or a mutual fund. \n",
      "\n",
      "Before investing, it's important to do your research on the specific bond you're considering. Look at the credit rating of the issuer, the terms of the bond, and the yield it offers. Additionally, it's always a good idea to consult with a financial advisor or do your own calculations to ensure it aligns with your investment goals and risk tolerance. \n",
      "\n",
      "Let me know if you have any more questions or if you need any clarification on anything.\n",
      "\n",
      "GPT2: Thank you for the advice. I will look into the different types of bonds to make a well-informed decision. This was really helpful, thank you.\n",
      "\n",
      "GPT1: You're welcome! It was my pleasure to assist you. If you have any other questions or if there's anything else I can do to help, please don't hesitate to let me know. Have a great day!\n",
      "\n"
     ]
    }
   ],
   "source": [
    "session2.inject(line=\"You are a customer at a bank, seeking financial advise from me. Say ok if you understand.\",role=\"user\")\n",
    "session2.inject(line=\"Ok.\",role= \"assistant\")\n",
    "session2.inject(line=\"Hi. I am not sure about how to invest. Could you help me?\",role= \"assistant\")\n",
    "\n",
    "session1.inject(line=\"You are a financial advisor at a bank and I am a customer seeking financial advise from you . Say ok if you understand.\",role=\"user\")\n",
    "session1.inject(line=\"Ok.\",role= \"assistant\")\n",
    "\n",
    "session1.chat(session2.messages[-1])\n",
    "session2.chat(session1.messages[-1])\n",
    "session1.chat(session2.messages[-1])\n",
    "session2.chat(session1.messages[-1])\n",
    "session1.chat(session2.messages[-1])\n",
    "session2.chat(session1.messages[-1])\n",
    "session1.chat(session2.messages[-1])\n",
    "session2.chat(session1.messages[-1])\n",
    "session1.chat(session2.messages[-1])"
   ]
  }
 ],
 "metadata": {
  "kernelspec": {
   "display_name": "MLinFin",
   "language": "python",
   "name": "python3"
  },
  "language_info": {
   "codemirror_mode": {
    "name": "ipython",
    "version": 3
   },
   "file_extension": ".py",
   "mimetype": "text/x-python",
   "name": "python",
   "nbconvert_exporter": "python",
   "pygments_lexer": "ipython3",
   "version": "3.10.0"
  },
  "orig_nbformat": 4
 },
 "nbformat": 4,
 "nbformat_minor": 2
}
