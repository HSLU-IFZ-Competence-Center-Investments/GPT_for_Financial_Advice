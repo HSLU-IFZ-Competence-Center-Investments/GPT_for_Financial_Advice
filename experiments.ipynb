{
 "cells": [
  {
   "cell_type": "code",
   "execution_count": 3,
   "metadata": {},
   "outputs": [],
   "source": [
    "import openai\n",
    "from utils import ChatSession,check_info\n",
    "\n",
    "# load and set our key\n",
    "openai.api_key = open(\"key.txt\", \"r\").read().strip(\"\\n\")"
   ]
  },
  {
   "attachments": {},
   "cell_type": "markdown",
   "metadata": {},
   "source": [
    "# GPT/GPT"
   ]
  },
  {
   "cell_type": "code",
   "execution_count": 6,
   "metadata": {},
   "outputs": [
    {
     "name": "stdout",
     "output_type": "stream",
     "text": [
      "Customer: Hi. I am not sure about how to invest. Could you help me?\n",
      "Advisor: Of course, I'd be happy to help. Before we get started, can you tell me a little bit about your financial goals? Are you looking to save for retirement, a down payment on a house, or something else?\n",
      "\n",
      "Customer: I am planning for my retirement. What is a good investment option for me considering the current financial situation worldwide and in Switzerland?\n",
      "\n",
      "Advisor: Great, planning for retirement is a smart move. There are many investment options available, but the best one for you will depend on your age, income, and risk appetite. Can you tell me a little bit about your age, income, and how comfortable you are with taking risks? This will help me suggest a portfolio that is tailored to your needs.\n",
      "\n",
      "Customer: I am 50 years old, with an income of 120K. However, I have a low risk appetite.\n",
      "\n"
     ]
    }
   ],
   "source": [
    "session1 = ChatSession(gpt_name='Advisor')\n",
    "session2 = ChatSession(gpt_name='Customer')\n",
    "\n",
    "beginning_sentence = \"Hi. I am not sure about how to invest. Could you help me?\"\n",
    "# beginning_sentence = \"Hi. I am curious about today's investment chances. Could you help me?\"\n",
    "\n",
    "session2.inject(line=\"You are a customer at a bank, seeking financial advise from me. You will ask general questions about current financial situation in the world and Switzerland. You are 50 years old with an income of 120K. Your risk appetite is low. Do not give these information unless you are asked for. Say ok if you understand.\",role=\"user\")\n",
    "session2.inject(line=\"Ok.\",role= \"assistant\")\n",
    "session2.inject(line=beginning_sentence,role= \"assistant\")\n",
    "\n",
    "log = []\n",
    "log.append('Customer: ' + beginning_sentence)\n",
    "print(log[-1])\n",
    "\n",
    "session1.inject(line=\"You are a financial advisor at a bank. You should ask about customers' age, income and risk apetite later in the conversation before suggesting a portfolio. Be subtle about asking for these information and do not ask at the very beginning of the conversation. Always prioritize answering the customers' questions over asking for these information. I am a customer seeking financial advise from you. Say ok if you understand.\",role=\"user\")\n",
    "session1.inject(line=\"Ok.\",role= \"assistant\")\n",
    "\n",
    "all_info = {} # TODO make it work\n",
    "information = ['age','income','risk appetite']\n",
    "while True:\n",
    "    session1.chat(session2.messages[-1],temperature=0.01); log.append(f\"{session1.gpt_name}: {session1.messages[-1].content}\")\n",
    "    session2.chat(session1.messages[-1]); log.append(f\"{session2.gpt_name}: {session2.messages[-1].content}\")\n",
    "    which_info = check_info(information=information,dialogue=f'{session1.gpt_name}: {session1.messages[-1].content}'+'\\n'+f'{session2.gpt_name}: {session2.messages[-1].content}')\n",
    "    extracted_info = [information[i] for i,info_check in enumerate(which_info) if info_check]\n",
    "    for info in extracted_info:\n",
    "        all_info.update({information.pop(information.index(info)):info})\n",
    "    if not len(information):\n",
    "        break\n",
    "\n",
    "# Implement rule based\n",
    "\n",
    "portfolio = ...\n",
    "\n",
    "# Tell GPT to recommend portfolio\n"
   ]
  },
  {
   "attachments": {},
   "cell_type": "markdown",
   "metadata": {},
   "source": [
    "# GPT/Human"
   ]
  },
  {
   "cell_type": "code",
   "execution_count": 2,
   "metadata": {},
   "outputs": [
    {
     "name": "stdout",
     "output_type": "stream",
     "text": [
      "Customer:  Hi\n",
      "Advisor: Hello! How can I assist you today with your financial needs?\n",
      "\n",
      "Customer:  I would like to invest in tech companies\n",
      "Advisor: Great! Investing in tech companies can be a good way to grow your wealth. Before I suggest any portfolio, can you tell me a little more about your overall financial situation, such as your investment goals, income, and risk tolerance? This will help me suggest the most suitable investments for you.\n",
      "\n",
      "Customer:  I do not want to take on too much risk\n",
      "Advisor: Understood. Risk tolerance is an important factor when it comes to investing. Can you tell me a bit more about what you know about tech investments? It is also important to have a balance between risk and reward, as more risks generally lead to higher potential returns. However, this of course depends on your personal situation and goals.\n",
      "\n",
      "Customer:  I do not know much\n",
      "Advisor: No problem! Investing in tech companies can be a great way to achieve strong returns over time, but it is important to keep in mind that there are risks associated with any investment. With that in mind, can I ask you about your investment goals and time horizon? Are you planning for the short-term or long-term? Are you looking for potential capital growth or regular income through dividends? By understanding these factors, I can recommend a portfolio that matches your investment objectives and personal tolerance for risk.\n",
      "\n",
      "Customer:  I am thinking long term\n",
      "Advisor: Great! Investing for the long term can be a good strategy to achieve strong returns. Based on your preference for lower risk tolerance and long-term investment horizon, there are several options available to you.\n",
      "\n",
      "One option could be to invest in a diversified portfolio of tech companies. This would offer exposure to a range of high-growth tech companies, while also helping to diversify risk. Another option would be to invest in a tech-focused mutual fund or ETF, which would provide exposure to a range of tech companies in a single investment.\n",
      "\n",
      "To make more specific recommendations, could you please provide me with your income level, age, and current financial commitments? This will help me to better understand your personal financial situation and risk tolerance so that we can construct a suitable portfolio together.\n",
      "\n",
      "Customer:  I currently earn 120K and I am 50 years old\n"
     ]
    }
   ],
   "source": [
    "session1 = ChatSession(gpt_name='Advisor')\n",
    "\n",
    "user_input = input(\"> \")\n",
    "print('Customer: ', user_input)\n",
    "\n",
    "log = []\n",
    "\n",
    "session1.inject(line=\"You are a financial advisor at a bank. You should ask about customers' age, income and risk apetite later in the conversation before suggesting a portfolio. Be subtle about asking for these information and do not ask at the very beginning of the conversation. Always prioritize answering the customers' questions over asking for these information. I am a customer seeking financial advise from you. Say ok if you understand.\",role=\"user\")\n",
    "session1.inject(line=\"Ok.\",role= \"assistant\")\n",
    "\n",
    "all_info = {} # TODO make it work\n",
    "information = ['age','income','risk appetite']\n",
    "while True:\n",
    "    session1.chat(user_input=user_input); log.append(f\"{session1.gpt_name}: {user_input}\")\n",
    "    user_input = input(\"> \"); log.append(f\"Customer: {user_input}\")\n",
    "    print('Customer: ', user_input)\n",
    "    which_info, investor_profile = check_info(information=information,dialogue=f'{session1.gpt_name}: {session1.messages[-1].content}'+'\\n'+f'Customer: {user_input}')\n",
    "    extracted_info = [information[i] for i,info_check in enumerate(which_info) if info_check] # ``extracted_info`` has elements same as ``information``\n",
    "    for info in extracted_info:\n",
    "        all_info.update({information.pop(information.index(info)):info})\n",
    "    if not len(information):\n",
    "        break\n",
    "\n",
    "# Implement rule based by using ``investor_profile``\n",
    "\n",
    "portfolio = ...\n",
    "\n",
    "# Tell GPT to recommend portfolio\n",
    "\n",
    "\n"
   ]
  }
 ],
 "metadata": {
  "kernelspec": {
   "display_name": "MLinFin",
   "language": "python",
   "name": "python3"
  },
  "language_info": {
   "codemirror_mode": {
    "name": "ipython",
    "version": 3
   },
   "file_extension": ".py",
   "mimetype": "text/x-python",
   "name": "python",
   "nbconvert_exporter": "python",
   "pygments_lexer": "ipython3",
   "version": "3.10.0"
  },
  "orig_nbformat": 4
 },
 "nbformat": 4,
 "nbformat_minor": 2
}
