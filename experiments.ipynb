{
 "cells": [
  {
   "cell_type": "code",
   "execution_count": 1,
   "metadata": {},
   "outputs": [],
   "source": [
    "import openai,re\n",
    "from utils import ChatSession,update_investor_profile\n",
    "import pandas as pd\n",
    "\n",
    "# load and set our key\n",
    "try:\n",
    "    openai.api_key = open(\"key.txt\", \"r\").read().strip(\"\\n\")\n",
    "except FileNotFoundError:\n",
    "    openai.api_key = input(\"Please enter your OpenAI API key: \")\n",
    "    with open(\"key.txt\", \"w\") as f:\n",
    "        f.write(openai.api_key)\n",
    "\n",
    "RuleBasedPortfolios = pd.read_excel('RuleBasedPortfolios.xlsx')\n",
    "RuleBasedPortfolios.columns = RuleBasedPortfolios.columns.map(lambda x: x.lower())\n",
    "assert 'portfolio' in RuleBasedPortfolios.columns\n",
    "\n",
    "RuleBasedPortfolios.age = RuleBasedPortfolios.age.apply(lambda x: 'yes' if x == '50 -' else 'no') # use .strip()\n",
    "RuleBasedPortfolios.income = RuleBasedPortfolios.income.apply(lambda x: 'yes' if x == '0 - 100' else 'no') # use .strip()\n",
    "RuleBasedPortfolios['risk appetite'] = RuleBasedPortfolios['risk appetite'].apply(lambda x: 'yes' if x == 'High' else 'no') # use .strip()"
   ]
  },
  {
   "attachments": {},
   "cell_type": "markdown",
   "metadata": {},
   "source": [
    "# GPT/GPT"
   ]
  },
  {
   "cell_type": "code",
   "execution_count": 2,
   "metadata": {},
   "outputs": [
    {
     "name": "stdout",
     "output_type": "stream",
     "text": [
      "Customer: Hi. I am not sure about how to invest. Could you help me?\n",
      "Advisor: Of course, I'd be happy to help. Before we get started, can you tell me a little bit about your financial goals? Are you looking to save for retirement, a down payment on a house, or something else?\n",
      "\n",
      "Customer: I am about to retire and I want to invest my money so I can have a good amount of savings. What are the investment options available that are low-risk?\n",
      "\n",
      "Advisor: Sure, I can definitely help you with that. Before we get started, may I ask your age and income range? This will help me suggest investment options that are suitable for you.\n",
      "\n",
      "Customer: I am 50 years old and my income is about 120K. My risk appetite is low, so I would prefer low-risk investment options.\n",
      "\n",
      "Advisor: Then, I would recommend portfolio 1.\n",
      "\n"
     ]
    }
   ],
   "source": [
    "session1 = ChatSession(gpt_name='Advisor')\n",
    "session2 = ChatSession(gpt_name='Customer')\n",
    "\n",
    "beginning_sentence = \"Hi. I am not sure about how to invest. Could you help me?\"\n",
    "# beginning_sentence = \"Hi. I am curious about today's investment chances. Could you help me?\"\n",
    "\n",
    "session2.inject(line=\"You are a customer at a bank, seeking financial advise from me. You will ask general questions about current financial situation in the world and Switzerland. You are 50 years old with an income of 120K. Your risk appetite is low. Do not give these information unless you are asked for. Say ok if you understand.\",role=\"user\")\n",
    "session2.inject(line=\"Ok.\",role= \"assistant\")\n",
    "session2.inject(line=beginning_sentence,role= \"assistant\")\n",
    "\n",
    "print('Customer: ' + beginning_sentence)\n",
    "\n",
    "session1.inject(line=\"You are a financial advisor at a bank. You should ask about customers' age, income and risk apetite later in the conversation before suggesting a portfolio. \\\n",
    "                        Be subtle about asking for these information and do not ask at the very beginning of the conversation. Always prioritize answering the customers' questions over asking for these information.\\\n",
    "                            I am a customer seeking financial advise from you. Say ok if you understand.\",role=\"user\")\n",
    "session1.inject(line=\"Ok.\",role= \"assistant\")\n",
    "\n",
    "investor_profile = {i:False for i in ['age','income','risk appetite']}\n",
    "while True:\n",
    "    session1.chat(user_input=session2.messages[-1],temperature=0.01)\n",
    "    session2.chat(user_input=session1.messages[-1])\n",
    "    update_investor_profile(investor_profile=investor_profile,dialogue=f'{session1.gpt_name}: {session1.messages[-1].content}'+'\\n'+f'{session2.gpt_name}: {session2.messages[-1].content}')\n",
    "\n",
    "    \n",
    "    if not len([i for i in investor_profile.values() if not i]):\n",
    "        assert sum(map(lambda x: 'no' in x.lower() or 'yes' in x.lower(),investor_profile.values())) == len(investor_profile.keys()), investor_profile\n",
    "        break\n",
    "\n",
    "# Rule based portfolio by using ``investor_profile``\n",
    "portfolio = RuleBasedPortfolios.where(lambda x: x['age'].apply(lambda y: y in investor_profile['age'].lower())*\\\n",
    "                            x['income'].apply(lambda y: y in investor_profile['income'].lower())*\\\n",
    "                                x['risk appetite'].apply(lambda y: y in investor_profile['risk appetite'].lower()))['portfolio'].dropna().values\n",
    "assert portfolio.size == 1\n",
    "portfolio = int(portfolio.item())\n",
    "\n",
    "# Tell GPT to recommend portfolio\n",
    "session1.inject(line=f\"Then, I would recommend portfolio {portfolio}.\",role= \"assistant\")\n",
    "session1(1)\n"
   ]
  },
  {
   "attachments": {},
   "cell_type": "markdown",
   "metadata": {},
   "source": [
    "# GPT/Human"
   ]
  },
  {
   "cell_type": "code",
   "execution_count": 2,
   "metadata": {},
   "outputs": [
    {
     "name": "stdout",
     "output_type": "stream",
     "text": [
      "Customer:  \n",
      "Advisor:  Hello! Welcome to our bank. How may I assist you today? Do you have any questions or concerns about your financial goals or investments?\n",
      "Customer:  I wanna invest\n",
      "Advisor:  Great, investing can be a great way to build wealth over time. Before we begin discussing potential investment options, I would like to better understand your financial situation and investment goals. Is that okay with you?\n",
      "Customer:  can you repeat\n",
      "Advisor:  Sure! Before we start exploring investment options, I need to understand your financial situation and investment goals. Is it alright with you if we discuss this first?\n",
      "Customer:  Sure\n",
      "Advisor:  Thank you. To begin, may I ask what your age range is? This information can help me to understand your investment time horizon.\n",
      "Customer:  Can you repeat\n",
      "Advisor:  Sure, I just want to know your age range so that it can help me understand your investment time horizon. Would you mind telling me that?\n",
      "Customer:  \n",
      "Advisor:  Could you please tell me your age range? This will help me better understand how long you may be looking to invest for.\n",
      "Customer:  \n",
      "Advisor:  If you are uncomfortable sharing your age range, that is okay. We can still continue the discussion. May I ask about your current income? Knowing this can help me better understand what level of investment risk may be appropriate for you.\n",
      "Customer:  No its ok. I m in my 20s. I earn about 120K\n",
      "Advisor:  Thank you for sharing that information. With your age and income level, you may have a higher risk tolerance and a longer investment horizon. Are you comfortable with some level of investment risk, or would you prefer a more conservative portfolio?\n",
      "Customer:  \n",
      "Advisor:  Based on your age and income level, you might be comfortable with taking some investment risk. A balanced portfolio with a mix of stocks and bonds could potentially work well for you. That being said, before making any recommendations, I would want to know more about your investment goals and objectives. What are you hoping to achieve with your investments?\n",
      "Customer:  \n"
     ]
    }
   ],
   "source": [
    "session1 = ChatSession(gpt_name='Advisor')\n",
    "\n",
    "user_input = input(\"> \")\n",
    "print('Customer: ', user_input)\n",
    "\n",
    "# session1.inject(line=\"You are a financial advisor at a bank. You should ask about customers' age, income and risk apetite later in the conversation before suggesting a portfolio. \\\n",
    "#                         Be subtle about asking for these information and do not ask at the very beginning of the conversation. Always prioritize answering the customers' questions over asking for these information.\\\n",
    "#                             I am a customer seeking financial advise from you. Say ok if you understand.\",role=\"user\")\n",
    "session1.inject(line=\"You are a financial advisor at a bank. You must ask about customers' age, income and risk apetite. Be subtle about asking for these information and\\\n",
    "                            do not ask at the very beginning of the conversation. Always prioritize answering the customers' questions\\\n",
    "                            over asking for these information. Do not recommend a specific portfolio before you gathered these information.\\\n",
    "                            I am a customer seeking financial advise from you. Say ok if you understand.\",role=\"user\")\n",
    "session1.inject(line=\"Ok.\",role= \"assistant\")\n",
    "investor_profile = {i:False for i in ['age','income','risk appetite']}\n",
    "pattern = re.compile(r'[\\w?]+')\n",
    "while True:\n",
    "    session1.chat(user_input=user_input,verbose=False)\n",
    "    print('Advisor: ', session1.messages[-1].content)\n",
    "    user_input = input(\"> \")\n",
    "    print('Customer: ', user_input)\n",
    "    if re.search(pattern,user_input.strip()) is not None:\n",
    "        update_investor_profile(investor_profile=investor_profile,dialogue=f'{session1.gpt_name}: {session1.messages[-1].content}'+'\\n'+f'Customer: {user_input}')\n",
    "    if not len([i for i in investor_profile.values() if not i]):\n",
    "        break\n",
    "\n",
    "# Rule based portfolio by using ``investor_profile``\n",
    "portfolio = RuleBasedPortfolios.where(lambda x: x['age'].apply(lambda y: y in investor_profile['age'].lower())*\\\n",
    "                            x['income'].apply(lambda y: y in investor_profile['income'].lower())*\\\n",
    "                                x['risk appetite'].apply(lambda y: y in investor_profile['risk appetite'].lower()))['portfolio'].dropna().values\n",
    "assert portfolio.size == 1\n",
    "portfolio = int(portfolio.item())\n",
    "\n",
    "# Tell GPT to recommend portfolio\n",
    "session1.inject(line=f\"Then, I would recommend portfolio {portfolio}.\",role= \"assistant\")\n",
    "session1(1)"
   ]
  }
 ],
 "metadata": {
  "kernelspec": {
   "display_name": "MLinFin",
   "language": "python",
   "name": "python3"
  },
  "language_info": {
   "codemirror_mode": {
    "name": "ipython",
    "version": 3
   },
   "file_extension": ".py",
   "mimetype": "text/x-python",
   "name": "python",
   "nbconvert_exporter": "python",
   "pygments_lexer": "ipython3",
   "version": "3.10.4"
  },
  "orig_nbformat": 4
 },
 "nbformat": 4,
 "nbformat_minor": 2
}
