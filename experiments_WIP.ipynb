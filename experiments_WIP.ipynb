{
 "cells": [
  {
   "cell_type": "code",
   "execution_count": 1,
   "metadata": {},
   "outputs": [],
   "source": [
    "import openai,re\n",
    "from utils import *\n",
    "\n",
    "RuleBasedPortfolios = pd.read_excel('RuleBasedPortfolios.xlsx')\n",
    "RuleBasedPortfolios.columns = RuleBasedPortfolios.columns.map(lambda x: x.lower())\n",
    "assert 'portfolio' in RuleBasedPortfolios.columns\n",
    "\n",
    "RuleBasedPortfolios.age = RuleBasedPortfolios.age.apply(lambda x: 'yes' if x == '50 -' else 'no') # use .strip()\n",
    "RuleBasedPortfolios.income = RuleBasedPortfolios.income.apply(lambda x: 'yes' if x == '0 - 100' else 'no') # use .strip()\n",
    "RuleBasedPortfolios['risk appetite'] = RuleBasedPortfolios['risk appetite'].apply(lambda x: 'yes' if x == 'High' else 'no') # use .strip()\n",
    "\n",
    "def chat(customer_is:str='human'):\n",
    "    \"\"\"\n",
    "        customer_is: 'human' or 'gpt' or 'mixed'. With 'mixed', the customer is 'human' with the option of switching to 'gpt' upon empty input.\n",
    "    \"\"\"\n",
    "    assert customer_is in ['human','gpt','mixed']\n",
    "\n",
    "    # Initialize investor_profile\n",
    "    investor_profile = {i:False for i in RuleBasedPortfolios.columns[~RuleBasedPortfolios.columns.isin(['portfolio'])]}\n",
    "    \n",
    "    # Instruct AdvisorGPT\n",
    "    session1 = ChatSession()\n",
    "    session1.inject(line=\"You are a financial advisor at a bank. You should ask about customers' age, income and risk apetite later in the conversation before suggesting a portfolio. Be subtle about asking for these information and do not ask at the very beginning of the conversation. Always prioritize answering the customers' questions over asking for these information. I am a customer seeking financial advise from you. Say ok if you understand.\",role=\"user\")\n",
    "    session1.inject(line=\"Ok.\",role= \"assistant\")\n",
    "\n",
    "    # Instruct CustomerGPT\n",
    "    if customer_is != 'human':\n",
    "        session2 = ChatSession()\n",
    "        session2.inject(line=\"You are a customer at a bank, seeking financial advise from me. You will ask general questions about current financial situation in the world and Switzerland. You are 50 years old with an income of 120K. Your risk appetite is low. Do not give these information unless you are asked for. Say ok if you understand.\",role=\"user\")\n",
    "        session2.inject(line=\"Ok.\",role= \"assistant\")\n",
    "    \n",
    "    # Handle opening\n",
    "    if customer_is == 'gpt':\n",
    "        beginning_sentence = \"Hi. I am not sure about how to invest. Could you help me?\"\n",
    "        session2.inject(line=beginning_sentence,role= \"assistant\")\n",
    "        user_input=session2.messages[-1]['content']\n",
    "    else:\n",
    "        user_input = input(\"> \")\n",
    "    \n",
    "    # Start conversation\n",
    "    print('Customer: ', user_input)\n",
    "    print(investor_profile)\n",
    "    while True:\n",
    "        session1.chat(user_input=user_input,verbose=False)\n",
    "        print('Advisor: ', session1.messages[-1].content)\n",
    "        if customer_is == 'gpt':\n",
    "            session2.chat(user_input=session1.messages[-1],verbose=False)\n",
    "            user_input = session2.messages[-1]['content']\n",
    "        else:\n",
    "            user_input = input(\"> \")\n",
    "        print('Customer: ', user_input)\n",
    "        if re.search(re.compile(r'[\\w?]+'),user_input.strip()) is not None:\n",
    "            print('Possibly updating...',investor_profile)\n",
    "            update_investor_profile(investor_profile=investor_profile,dialogue=f'{session1.gpt_name}: {session1.messages[-1].content}'+'\\n'+f'Customer: {user_input}')\n",
    "        if not len([i for i in investor_profile.values() if not i]):\n",
    "            break\n",
    "\n",
    "    # Suggest rule based portfolio by using ``investor_profile``\n",
    "    portfolio = RuleBasedPortfolios.loc[\\\n",
    "    RuleBasedPortfolios[investor_profile.keys()].\\\n",
    "                        apply(lambda x:x.apply(lambda y: y in investor_profile[x.name].lower())).product(axis=1).where(lambda x:x==True).dropna().index[0]\n",
    "                                        ,'portfolio']\n",
    "\n",
    "    # Tell GPT to recommend portfolio\n",
    "    session1.inject(line=f\"Then, I would recommend portfolio {portfolio}.\",role= \"assistant\")\n",
    "    session1(1)\n",
    "\n",
    "\n",
    "# load and set our key\n",
    "try:\n",
    "    openai.api_key = open(\"key.txt\", \"r\").read().strip(\"\\n\")\n",
    "except FileNotFoundError:\n",
    "    openai.api_key = input(\"Please enter your OpenAI API key: \")\n",
    "    with open(\"key.txt\", \"w\") as f:\n",
    "        f.write(openai.api_key)"
   ]
  },
  {
   "cell_type": "code",
   "execution_count": 2,
   "metadata": {},
   "outputs": [
    {
     "name": "stdout",
     "output_type": "stream",
     "text": [
      "Customer:  Hi. I am not sure about how to invest. Could you help me?\n",
      "{'age': False, 'income': False, 'risk appetite': False}\n"
     ]
    }
   ],
   "source": [
    "chat(customer_is='gpt')"
   ]
  }
 ],
 "metadata": {
  "kernelspec": {
   "display_name": "MLinFin",
   "language": "python",
   "name": "python3"
  },
  "language_info": {
   "codemirror_mode": {
    "name": "ipython",
    "version": 3
   },
   "file_extension": ".py",
   "mimetype": "text/x-python",
   "name": "python",
   "nbconvert_exporter": "python",
   "pygments_lexer": "ipython3",
   "version": "3.10.0"
  },
  "orig_nbformat": 4
 },
 "nbformat": 4,
 "nbformat_minor": 2
}
