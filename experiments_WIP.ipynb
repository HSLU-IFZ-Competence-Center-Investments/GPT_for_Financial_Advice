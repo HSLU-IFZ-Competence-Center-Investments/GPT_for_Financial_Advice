{
 "cells": [
  {
   "cell_type": "code",
   "execution_count": 1,
   "metadata": {},
   "outputs": [],
   "source": [
    "import openai\n",
    "from utils import chat\n",
    "\n",
    "# load and set our key\n",
    "try:\n",
    "    openai.api_key = open(\"key.txt\", \"r\").read().strip(\"\\n\")\n",
    "except FileNotFoundError:\n",
    "    openai.api_key = input(\"Please enter your OpenAI API key: \")\n",
    "    with open(\"key.txt\", \"w\") as f:\n",
    "        f.write(openai.api_key)"
   ]
  },
  {
   "cell_type": "code",
   "execution_count": 2,
   "metadata": {},
   "outputs": [
    {
     "name": "stdout",
     "output_type": "stream",
     "text": [
      "Customer:  Hi. I am not sure about how to invest. Could you help me?\n",
      "{'age': False, 'income': False, 'risk appetite': False}\n"
     ]
    }
   ],
   "source": [
    "chat(customer_is='gpt')"
   ]
  }
 ],
 "metadata": {
  "kernelspec": {
   "display_name": "MLinFin",
   "language": "python",
   "name": "python3"
  },
  "language_info": {
   "codemirror_mode": {
    "name": "ipython",
    "version": 3
   },
   "file_extension": ".py",
   "mimetype": "text/x-python",
   "name": "python",
   "nbconvert_exporter": "python",
   "pygments_lexer": "ipython3",
   "version": "3.10.0"
  },
  "orig_nbformat": 4
 },
 "nbformat": 4,
 "nbformat_minor": 2
}
