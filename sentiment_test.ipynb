{
 "cells": [
  {
   "cell_type": "code",
   "execution_count": 5,
   "metadata": {},
   "outputs": [
    {
     "name": "stdout",
     "output_type": "stream",
     "text": [
      "GPT: Affirming.\n",
      "\n",
      "GPT: Positive.\n",
      "\n"
     ]
    }
   ],
   "source": [
    "import openai\n",
    "from utils import ChatSession\n",
    "\n",
    "# load and set our key\n",
    "openai.api_key = open(\"key.txt\", \"r\").read().strip(\"\\n\")\n",
    "\n",
    "\n",
    "message = \"Yes, the customer does mention his risk appetite.\"\n",
    "message2 = \"No, the customer does not mention his risk appetite.\"\n",
    "message3 = \"I am not sure about his risk appetite.\"\n",
    "message4 = \"yes, the customer mentioned their risk appetite as low\"\n",
    "message5 = \"yes, the customer mentioned their age as 50 years old.\"\n",
    "message6 = \"The customer's age is 50.\"\n",
    "\n",
    "model1 = \"text-davinci-003\"\n",
    "model2 = \"gpt-3.5-turbo\"\n",
    "\n",
    "session1 = ChatSession()\n",
    "session2 = ChatSession()\n",
    "\n",
    "session1.chat(f\"Decide whether the following message is affirming, indecisive or denying, respectively: {message6}\")\n",
    "response = session1.messages[-1]['content'].lower().strip()\n",
    "session2.chat(f\"Decide whether a following message's sentiment is positive, or negative. {response}. Sentiment:\")\n",
    "response = session2.messages[-1]['content'].lower().strip()\n",
    "\n",
    "# response = openai.ChatCompletion.create(\n",
    "#   #model=\"text-davinci-003\",\n",
    "#   model=model2,\n",
    "#   messages=[{\"role\":\"user\",\"content\":f\"Decide whether the following message is affirming, indecisive or denying, respectively. {message2}\"}],\n",
    "#   temperature=0,\n",
    "#   max_tokens=60,\n",
    "#   top_p=1.0,\n",
    "#   frequency_penalty=0.5,\n",
    "#   presence_penalty=0.0\n",
    "# ).choices[0].message.content\n",
    "\n",
    "# response = openai.Completion.create(\n",
    "#   model=model2,\n",
    "#   prompt= f\"Decide whether a following message's sentiment is positive, or negative. {response}. Sentiment:\",\n",
    "#   temperature=0,\n",
    "#   max_tokens=1,\n",
    "#   top_p=1.0,\n",
    "#   frequency_penalty=0.5,\n",
    "#   presence_penalty=0.0\n",
    "# ).choices[0].text.lower().strip()\n",
    "\n",
    "assert 'negative' in response or 'positive' in response or 'neutral' in response\n",
    "\n",
    "session1.clear()\n",
    "session2.clear()\n",
    "\n",
    "# clear the response\n",
    "# response.clear()"
   ]
  },
  {
   "cell_type": "code",
   "execution_count": 2,
   "metadata": {},
   "outputs": [
    {
     "data": {
      "text/plain": [
       "' your worth is essential\\n\\nPositive'"
      ]
     },
     "execution_count": 2,
     "metadata": {},
     "output_type": "execute_result"
    }
   ],
   "source": [
    "response.choices[0].text"
   ]
  },
  {
   "cell_type": "code",
   "execution_count": null,
   "metadata": {},
   "outputs": [],
   "source": [
    "print(response)"
   ]
  }
 ],
 "metadata": {
  "kernelspec": {
   "display_name": "GPT_for_Financial_Advice",
   "language": "python",
   "name": "python3"
  },
  "language_info": {
   "codemirror_mode": {
    "name": "ipython",
    "version": 3
   },
   "file_extension": ".py",
   "mimetype": "text/x-python",
   "name": "python",
   "nbconvert_exporter": "python",
   "pygments_lexer": "ipython3",
   "version": "3.10.0"
  },
  "orig_nbformat": 4
 },
 "nbformat": 4,
 "nbformat_minor": 2
}
